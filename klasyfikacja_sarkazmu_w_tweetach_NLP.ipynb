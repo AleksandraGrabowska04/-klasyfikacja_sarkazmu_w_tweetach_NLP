{
  "nbformat": 4,
  "nbformat_minor": 0,
  "metadata": {
    "colab": {
      "provenance": []
    },
    "kernelspec": {
      "name": "python3",
      "display_name": "Python 3"
    },
    "language_info": {
      "name": "python"
    }
  },
  "cells": [
    {
      "cell_type": "markdown",
      "source": [
        "# Wstęp\n",
        "\n",
        "**Celem projektu była analiza i porównanie skuteczności modeli sieci neuronowych w zadaniu automatycznej klasyfikacji sarkazmu w nagłówkach tekstowych.**\n",
        "\n",
        "W projekcie wykorzystano publiczny zbiór danych **Sarcasm Headlines Dataset**, zawierający nagłówki wiadomości oznaczone jako sarkastyczne lub nie.\n",
        "Przeprowadzono wstępną analizę danych i ich wizualizację, a następnie przygotowano dane za pomocą warstwy TextVectorization, która umożliwiła efektywną konwersję tekstu na wektory liczbowe.\n",
        "\n",
        "W części modelowania zbudowano dwa złożone modele neuronowe:\n",
        "\n",
        "- **BiGRU** (Bidirectional Gated Recurrent Unit) - model sekwencyjny analizujący kontekst w obu kierunkach.\n",
        "\n",
        "- **BiLSTM + Attention** - model oparty na warstwach LSTM wzbogacony o mechanizm Attention, który pozwala skupić się na najważniejszych fragmentach tekstu.\n",
        "\n",
        "W projekcie oceniono również wpływ takich technik jak waga klas (class_weight), BatchNormalization, Dropout czy dobór optymalizatora (Adam, RMSprop) na stabilność i jakość uczenia modeli."
      ],
      "metadata": {
        "id": "WFFW_tBZtZGa"
      }
    },
    {
      "cell_type": "code",
      "source": [
        "import pandas as pd\n",
        "import numpy as np\n",
        "import tensorflow as tf\n",
        "import matplotlib.pyplot as plt\n",
        "import tensorflow_datasets as tfds\n",
        "from google.colab import files\n",
        "import seaborn as sns\n",
        "from collections import Counter\n",
        "import re\n",
        "from sklearn.model_selection import train_test_split\n",
        "from sklearn.utils import class_weight\n",
        "from tensorflow.keras import layers, Sequential, regularizers\n",
        "from sklearn.metrics import classification_report, confusion_matrix"
      ],
      "metadata": {
        "id": "37Uhq0vysF9I"
      },
      "execution_count": 1,
      "outputs": []
    },
    {
      "cell_type": "markdown",
      "source": [
        "# Pobranie i wizualizacja danych"
      ],
      "metadata": {
        "id": "veqyaW154GNe"
      }
    },
    {
      "cell_type": "code",
      "source": [
        "# Wgranie i załadowanie, wcześniej pobranego z kaggle, pliku Sarcasm_Headlines_Dataset_v2.json z komputera\n",
        "uploaded = files.upload()"
      ],
      "metadata": {
        "colab": {
          "base_uri": "https://localhost:8080/",
          "height": 94
        },
        "id": "YK_WLP1D36pK",
        "outputId": "2037d64d-39c8-4bdb-a934-872b37b5f0ab"
      },
      "execution_count": 2,
      "outputs": [
        {
          "output_type": "display_data",
          "data": {
            "text/plain": [
              "<IPython.core.display.HTML object>"
            ],
            "text/html": [
              "\n",
              "     <input type=\"file\" id=\"files-d9c0673b-ff34-46d1-a614-8192fc7b3093\" name=\"files[]\" multiple disabled\n",
              "        style=\"border:none\" />\n",
              "     <output id=\"result-d9c0673b-ff34-46d1-a614-8192fc7b3093\">\n",
              "      Upload widget is only available when the cell has been executed in the\n",
              "      current browser session. Please rerun this cell to enable.\n",
              "      </output>\n",
              "      <script>// Copyright 2017 Google LLC\n",
              "//\n",
              "// Licensed under the Apache License, Version 2.0 (the \"License\");\n",
              "// you may not use this file except in compliance with the License.\n",
              "// You may obtain a copy of the License at\n",
              "//\n",
              "//      http://www.apache.org/licenses/LICENSE-2.0\n",
              "//\n",
              "// Unless required by applicable law or agreed to in writing, software\n",
              "// distributed under the License is distributed on an \"AS IS\" BASIS,\n",
              "// WITHOUT WARRANTIES OR CONDITIONS OF ANY KIND, either express or implied.\n",
              "// See the License for the specific language governing permissions and\n",
              "// limitations under the License.\n",
              "\n",
              "/**\n",
              " * @fileoverview Helpers for google.colab Python module.\n",
              " */\n",
              "(function(scope) {\n",
              "function span(text, styleAttributes = {}) {\n",
              "  const element = document.createElement('span');\n",
              "  element.textContent = text;\n",
              "  for (const key of Object.keys(styleAttributes)) {\n",
              "    element.style[key] = styleAttributes[key];\n",
              "  }\n",
              "  return element;\n",
              "}\n",
              "\n",
              "// Max number of bytes which will be uploaded at a time.\n",
              "const MAX_PAYLOAD_SIZE = 100 * 1024;\n",
              "\n",
              "function _uploadFiles(inputId, outputId) {\n",
              "  const steps = uploadFilesStep(inputId, outputId);\n",
              "  const outputElement = document.getElementById(outputId);\n",
              "  // Cache steps on the outputElement to make it available for the next call\n",
              "  // to uploadFilesContinue from Python.\n",
              "  outputElement.steps = steps;\n",
              "\n",
              "  return _uploadFilesContinue(outputId);\n",
              "}\n",
              "\n",
              "// This is roughly an async generator (not supported in the browser yet),\n",
              "// where there are multiple asynchronous steps and the Python side is going\n",
              "// to poll for completion of each step.\n",
              "// This uses a Promise to block the python side on completion of each step,\n",
              "// then passes the result of the previous step as the input to the next step.\n",
              "function _uploadFilesContinue(outputId) {\n",
              "  const outputElement = document.getElementById(outputId);\n",
              "  const steps = outputElement.steps;\n",
              "\n",
              "  const next = steps.next(outputElement.lastPromiseValue);\n",
              "  return Promise.resolve(next.value.promise).then((value) => {\n",
              "    // Cache the last promise value to make it available to the next\n",
              "    // step of the generator.\n",
              "    outputElement.lastPromiseValue = value;\n",
              "    return next.value.response;\n",
              "  });\n",
              "}\n",
              "\n",
              "/**\n",
              " * Generator function which is called between each async step of the upload\n",
              " * process.\n",
              " * @param {string} inputId Element ID of the input file picker element.\n",
              " * @param {string} outputId Element ID of the output display.\n",
              " * @return {!Iterable<!Object>} Iterable of next steps.\n",
              " */\n",
              "function* uploadFilesStep(inputId, outputId) {\n",
              "  const inputElement = document.getElementById(inputId);\n",
              "  inputElement.disabled = false;\n",
              "\n",
              "  const outputElement = document.getElementById(outputId);\n",
              "  outputElement.innerHTML = '';\n",
              "\n",
              "  const pickedPromise = new Promise((resolve) => {\n",
              "    inputElement.addEventListener('change', (e) => {\n",
              "      resolve(e.target.files);\n",
              "    });\n",
              "  });\n",
              "\n",
              "  const cancel = document.createElement('button');\n",
              "  inputElement.parentElement.appendChild(cancel);\n",
              "  cancel.textContent = 'Cancel upload';\n",
              "  const cancelPromise = new Promise((resolve) => {\n",
              "    cancel.onclick = () => {\n",
              "      resolve(null);\n",
              "    };\n",
              "  });\n",
              "\n",
              "  // Wait for the user to pick the files.\n",
              "  const files = yield {\n",
              "    promise: Promise.race([pickedPromise, cancelPromise]),\n",
              "    response: {\n",
              "      action: 'starting',\n",
              "    }\n",
              "  };\n",
              "\n",
              "  cancel.remove();\n",
              "\n",
              "  // Disable the input element since further picks are not allowed.\n",
              "  inputElement.disabled = true;\n",
              "\n",
              "  if (!files) {\n",
              "    return {\n",
              "      response: {\n",
              "        action: 'complete',\n",
              "      }\n",
              "    };\n",
              "  }\n",
              "\n",
              "  for (const file of files) {\n",
              "    const li = document.createElement('li');\n",
              "    li.append(span(file.name, {fontWeight: 'bold'}));\n",
              "    li.append(span(\n",
              "        `(${file.type || 'n/a'}) - ${file.size} bytes, ` +\n",
              "        `last modified: ${\n",
              "            file.lastModifiedDate ? file.lastModifiedDate.toLocaleDateString() :\n",
              "                                    'n/a'} - `));\n",
              "    const percent = span('0% done');\n",
              "    li.appendChild(percent);\n",
              "\n",
              "    outputElement.appendChild(li);\n",
              "\n",
              "    const fileDataPromise = new Promise((resolve) => {\n",
              "      const reader = new FileReader();\n",
              "      reader.onload = (e) => {\n",
              "        resolve(e.target.result);\n",
              "      };\n",
              "      reader.readAsArrayBuffer(file);\n",
              "    });\n",
              "    // Wait for the data to be ready.\n",
              "    let fileData = yield {\n",
              "      promise: fileDataPromise,\n",
              "      response: {\n",
              "        action: 'continue',\n",
              "      }\n",
              "    };\n",
              "\n",
              "    // Use a chunked sending to avoid message size limits. See b/62115660.\n",
              "    let position = 0;\n",
              "    do {\n",
              "      const length = Math.min(fileData.byteLength - position, MAX_PAYLOAD_SIZE);\n",
              "      const chunk = new Uint8Array(fileData, position, length);\n",
              "      position += length;\n",
              "\n",
              "      const base64 = btoa(String.fromCharCode.apply(null, chunk));\n",
              "      yield {\n",
              "        response: {\n",
              "          action: 'append',\n",
              "          file: file.name,\n",
              "          data: base64,\n",
              "        },\n",
              "      };\n",
              "\n",
              "      let percentDone = fileData.byteLength === 0 ?\n",
              "          100 :\n",
              "          Math.round((position / fileData.byteLength) * 100);\n",
              "      percent.textContent = `${percentDone}% done`;\n",
              "\n",
              "    } while (position < fileData.byteLength);\n",
              "  }\n",
              "\n",
              "  // All done.\n",
              "  yield {\n",
              "    response: {\n",
              "      action: 'complete',\n",
              "    }\n",
              "  };\n",
              "}\n",
              "\n",
              "scope.google = scope.google || {};\n",
              "scope.google.colab = scope.google.colab || {};\n",
              "scope.google.colab._files = {\n",
              "  _uploadFiles,\n",
              "  _uploadFilesContinue,\n",
              "};\n",
              "})(self);\n",
              "</script> "
            ]
          },
          "metadata": {}
        },
        {
          "output_type": "stream",
          "name": "stdout",
          "text": [
            "Saving Sarcasm_Headlines_Dataset.json to Sarcasm_Headlines_Dataset.json\n"
          ]
        }
      ]
    },
    {
      "cell_type": "markdown",
      "source": [
        "Załadowany powyżej plik JSON zawiera dane pochodzące z nagłówków artykułów informacyjnych, które zostały oznaczone pod kątem obecności sarkazmu. Każdy rekord zawiera tekst nagłówka (headline), etykietę (is_sarcastic) wskazującą, czy nagłówek jest sarkastyczny (1) czy nie (0), oraz opcjonalny link do pełnego artykułu (article_link)."
      ],
      "metadata": {
        "id": "CpqrjbQE8Fxb"
      }
    },
    {
      "cell_type": "code",
      "source": [
        "# Odczytanie plikuw z danymi\n",
        "filename = \"Sarcasm_Headlines_Dataset.json\"\n",
        "df = pd.read_json(filename, lines=True)\n",
        "df.head()"
      ],
      "metadata": {
        "colab": {
          "base_uri": "https://localhost:8080/",
          "height": 293
        },
        "id": "Zqa_zyB64NSF",
        "outputId": "aede1f1d-f7d3-43c3-e9fe-f05a7fd67d08"
      },
      "execution_count": 3,
      "outputs": [
        {
          "output_type": "execute_result",
          "data": {
            "text/plain": [
              "                                        article_link  \\\n",
              "0  https://www.huffingtonpost.com/entry/versace-b...   \n",
              "1  https://www.huffingtonpost.com/entry/roseanne-...   \n",
              "2  https://local.theonion.com/mom-starting-to-fea...   \n",
              "3  https://politics.theonion.com/boehner-just-wan...   \n",
              "4  https://www.huffingtonpost.com/entry/jk-rowlin...   \n",
              "\n",
              "                                            headline  is_sarcastic  \n",
              "0  former versace store clerk sues over secret 'b...             0  \n",
              "1  the 'roseanne' revival catches up to our thorn...             0  \n",
              "2  mom starting to fear son's web series closest ...             1  \n",
              "3  boehner just wants wife to listen, not come up...             1  \n",
              "4  j.k. rowling wishes snape happy birthday in th...             0  "
            ],
            "text/html": [
              "\n",
              "  <div id=\"df-83744620-dd42-4899-a37a-839447e4b7a1\" class=\"colab-df-container\">\n",
              "    <div>\n",
              "<style scoped>\n",
              "    .dataframe tbody tr th:only-of-type {\n",
              "        vertical-align: middle;\n",
              "    }\n",
              "\n",
              "    .dataframe tbody tr th {\n",
              "        vertical-align: top;\n",
              "    }\n",
              "\n",
              "    .dataframe thead th {\n",
              "        text-align: right;\n",
              "    }\n",
              "</style>\n",
              "<table border=\"1\" class=\"dataframe\">\n",
              "  <thead>\n",
              "    <tr style=\"text-align: right;\">\n",
              "      <th></th>\n",
              "      <th>article_link</th>\n",
              "      <th>headline</th>\n",
              "      <th>is_sarcastic</th>\n",
              "    </tr>\n",
              "  </thead>\n",
              "  <tbody>\n",
              "    <tr>\n",
              "      <th>0</th>\n",
              "      <td>https://www.huffingtonpost.com/entry/versace-b...</td>\n",
              "      <td>former versace store clerk sues over secret 'b...</td>\n",
              "      <td>0</td>\n",
              "    </tr>\n",
              "    <tr>\n",
              "      <th>1</th>\n",
              "      <td>https://www.huffingtonpost.com/entry/roseanne-...</td>\n",
              "      <td>the 'roseanne' revival catches up to our thorn...</td>\n",
              "      <td>0</td>\n",
              "    </tr>\n",
              "    <tr>\n",
              "      <th>2</th>\n",
              "      <td>https://local.theonion.com/mom-starting-to-fea...</td>\n",
              "      <td>mom starting to fear son's web series closest ...</td>\n",
              "      <td>1</td>\n",
              "    </tr>\n",
              "    <tr>\n",
              "      <th>3</th>\n",
              "      <td>https://politics.theonion.com/boehner-just-wan...</td>\n",
              "      <td>boehner just wants wife to listen, not come up...</td>\n",
              "      <td>1</td>\n",
              "    </tr>\n",
              "    <tr>\n",
              "      <th>4</th>\n",
              "      <td>https://www.huffingtonpost.com/entry/jk-rowlin...</td>\n",
              "      <td>j.k. rowling wishes snape happy birthday in th...</td>\n",
              "      <td>0</td>\n",
              "    </tr>\n",
              "  </tbody>\n",
              "</table>\n",
              "</div>\n",
              "    <div class=\"colab-df-buttons\">\n",
              "\n",
              "  <div class=\"colab-df-container\">\n",
              "    <button class=\"colab-df-convert\" onclick=\"convertToInteractive('df-83744620-dd42-4899-a37a-839447e4b7a1')\"\n",
              "            title=\"Convert this dataframe to an interactive table.\"\n",
              "            style=\"display:none;\">\n",
              "\n",
              "  <svg xmlns=\"http://www.w3.org/2000/svg\" height=\"24px\" viewBox=\"0 -960 960 960\">\n",
              "    <path d=\"M120-120v-720h720v720H120Zm60-500h600v-160H180v160Zm220 220h160v-160H400v160Zm0 220h160v-160H400v160ZM180-400h160v-160H180v160Zm440 0h160v-160H620v160ZM180-180h160v-160H180v160Zm440 0h160v-160H620v160Z\"/>\n",
              "  </svg>\n",
              "    </button>\n",
              "\n",
              "  <style>\n",
              "    .colab-df-container {\n",
              "      display:flex;\n",
              "      gap: 12px;\n",
              "    }\n",
              "\n",
              "    .colab-df-convert {\n",
              "      background-color: #E8F0FE;\n",
              "      border: none;\n",
              "      border-radius: 50%;\n",
              "      cursor: pointer;\n",
              "      display: none;\n",
              "      fill: #1967D2;\n",
              "      height: 32px;\n",
              "      padding: 0 0 0 0;\n",
              "      width: 32px;\n",
              "    }\n",
              "\n",
              "    .colab-df-convert:hover {\n",
              "      background-color: #E2EBFA;\n",
              "      box-shadow: 0px 1px 2px rgba(60, 64, 67, 0.3), 0px 1px 3px 1px rgba(60, 64, 67, 0.15);\n",
              "      fill: #174EA6;\n",
              "    }\n",
              "\n",
              "    .colab-df-buttons div {\n",
              "      margin-bottom: 4px;\n",
              "    }\n",
              "\n",
              "    [theme=dark] .colab-df-convert {\n",
              "      background-color: #3B4455;\n",
              "      fill: #D2E3FC;\n",
              "    }\n",
              "\n",
              "    [theme=dark] .colab-df-convert:hover {\n",
              "      background-color: #434B5C;\n",
              "      box-shadow: 0px 1px 3px 1px rgba(0, 0, 0, 0.15);\n",
              "      filter: drop-shadow(0px 1px 2px rgba(0, 0, 0, 0.3));\n",
              "      fill: #FFFFFF;\n",
              "    }\n",
              "  </style>\n",
              "\n",
              "    <script>\n",
              "      const buttonEl =\n",
              "        document.querySelector('#df-83744620-dd42-4899-a37a-839447e4b7a1 button.colab-df-convert');\n",
              "      buttonEl.style.display =\n",
              "        google.colab.kernel.accessAllowed ? 'block' : 'none';\n",
              "\n",
              "      async function convertToInteractive(key) {\n",
              "        const element = document.querySelector('#df-83744620-dd42-4899-a37a-839447e4b7a1');\n",
              "        const dataTable =\n",
              "          await google.colab.kernel.invokeFunction('convertToInteractive',\n",
              "                                                    [key], {});\n",
              "        if (!dataTable) return;\n",
              "\n",
              "        const docLinkHtml = 'Like what you see? Visit the ' +\n",
              "          '<a target=\"_blank\" href=https://colab.research.google.com/notebooks/data_table.ipynb>data table notebook</a>'\n",
              "          + ' to learn more about interactive tables.';\n",
              "        element.innerHTML = '';\n",
              "        dataTable['output_type'] = 'display_data';\n",
              "        await google.colab.output.renderOutput(dataTable, element);\n",
              "        const docLink = document.createElement('div');\n",
              "        docLink.innerHTML = docLinkHtml;\n",
              "        element.appendChild(docLink);\n",
              "      }\n",
              "    </script>\n",
              "  </div>\n",
              "\n",
              "\n",
              "    <div id=\"df-a7709d0e-0af8-405e-99a9-37942ccd7708\">\n",
              "      <button class=\"colab-df-quickchart\" onclick=\"quickchart('df-a7709d0e-0af8-405e-99a9-37942ccd7708')\"\n",
              "                title=\"Suggest charts\"\n",
              "                style=\"display:none;\">\n",
              "\n",
              "<svg xmlns=\"http://www.w3.org/2000/svg\" height=\"24px\"viewBox=\"0 0 24 24\"\n",
              "     width=\"24px\">\n",
              "    <g>\n",
              "        <path d=\"M19 3H5c-1.1 0-2 .9-2 2v14c0 1.1.9 2 2 2h14c1.1 0 2-.9 2-2V5c0-1.1-.9-2-2-2zM9 17H7v-7h2v7zm4 0h-2V7h2v10zm4 0h-2v-4h2v4z\"/>\n",
              "    </g>\n",
              "</svg>\n",
              "      </button>\n",
              "\n",
              "<style>\n",
              "  .colab-df-quickchart {\n",
              "      --bg-color: #E8F0FE;\n",
              "      --fill-color: #1967D2;\n",
              "      --hover-bg-color: #E2EBFA;\n",
              "      --hover-fill-color: #174EA6;\n",
              "      --disabled-fill-color: #AAA;\n",
              "      --disabled-bg-color: #DDD;\n",
              "  }\n",
              "\n",
              "  [theme=dark] .colab-df-quickchart {\n",
              "      --bg-color: #3B4455;\n",
              "      --fill-color: #D2E3FC;\n",
              "      --hover-bg-color: #434B5C;\n",
              "      --hover-fill-color: #FFFFFF;\n",
              "      --disabled-bg-color: #3B4455;\n",
              "      --disabled-fill-color: #666;\n",
              "  }\n",
              "\n",
              "  .colab-df-quickchart {\n",
              "    background-color: var(--bg-color);\n",
              "    border: none;\n",
              "    border-radius: 50%;\n",
              "    cursor: pointer;\n",
              "    display: none;\n",
              "    fill: var(--fill-color);\n",
              "    height: 32px;\n",
              "    padding: 0;\n",
              "    width: 32px;\n",
              "  }\n",
              "\n",
              "  .colab-df-quickchart:hover {\n",
              "    background-color: var(--hover-bg-color);\n",
              "    box-shadow: 0 1px 2px rgba(60, 64, 67, 0.3), 0 1px 3px 1px rgba(60, 64, 67, 0.15);\n",
              "    fill: var(--button-hover-fill-color);\n",
              "  }\n",
              "\n",
              "  .colab-df-quickchart-complete:disabled,\n",
              "  .colab-df-quickchart-complete:disabled:hover {\n",
              "    background-color: var(--disabled-bg-color);\n",
              "    fill: var(--disabled-fill-color);\n",
              "    box-shadow: none;\n",
              "  }\n",
              "\n",
              "  .colab-df-spinner {\n",
              "    border: 2px solid var(--fill-color);\n",
              "    border-color: transparent;\n",
              "    border-bottom-color: var(--fill-color);\n",
              "    animation:\n",
              "      spin 1s steps(1) infinite;\n",
              "  }\n",
              "\n",
              "  @keyframes spin {\n",
              "    0% {\n",
              "      border-color: transparent;\n",
              "      border-bottom-color: var(--fill-color);\n",
              "      border-left-color: var(--fill-color);\n",
              "    }\n",
              "    20% {\n",
              "      border-color: transparent;\n",
              "      border-left-color: var(--fill-color);\n",
              "      border-top-color: var(--fill-color);\n",
              "    }\n",
              "    30% {\n",
              "      border-color: transparent;\n",
              "      border-left-color: var(--fill-color);\n",
              "      border-top-color: var(--fill-color);\n",
              "      border-right-color: var(--fill-color);\n",
              "    }\n",
              "    40% {\n",
              "      border-color: transparent;\n",
              "      border-right-color: var(--fill-color);\n",
              "      border-top-color: var(--fill-color);\n",
              "    }\n",
              "    60% {\n",
              "      border-color: transparent;\n",
              "      border-right-color: var(--fill-color);\n",
              "    }\n",
              "    80% {\n",
              "      border-color: transparent;\n",
              "      border-right-color: var(--fill-color);\n",
              "      border-bottom-color: var(--fill-color);\n",
              "    }\n",
              "    90% {\n",
              "      border-color: transparent;\n",
              "      border-bottom-color: var(--fill-color);\n",
              "    }\n",
              "  }\n",
              "</style>\n",
              "\n",
              "      <script>\n",
              "        async function quickchart(key) {\n",
              "          const quickchartButtonEl =\n",
              "            document.querySelector('#' + key + ' button');\n",
              "          quickchartButtonEl.disabled = true;  // To prevent multiple clicks.\n",
              "          quickchartButtonEl.classList.add('colab-df-spinner');\n",
              "          try {\n",
              "            const charts = await google.colab.kernel.invokeFunction(\n",
              "                'suggestCharts', [key], {});\n",
              "          } catch (error) {\n",
              "            console.error('Error during call to suggestCharts:', error);\n",
              "          }\n",
              "          quickchartButtonEl.classList.remove('colab-df-spinner');\n",
              "          quickchartButtonEl.classList.add('colab-df-quickchart-complete');\n",
              "        }\n",
              "        (() => {\n",
              "          let quickchartButtonEl =\n",
              "            document.querySelector('#df-a7709d0e-0af8-405e-99a9-37942ccd7708 button');\n",
              "          quickchartButtonEl.style.display =\n",
              "            google.colab.kernel.accessAllowed ? 'block' : 'none';\n",
              "        })();\n",
              "      </script>\n",
              "    </div>\n",
              "\n",
              "    </div>\n",
              "  </div>\n"
            ],
            "application/vnd.google.colaboratory.intrinsic+json": {
              "type": "dataframe",
              "variable_name": "df",
              "summary": "{\n  \"name\": \"df\",\n  \"rows\": 26709,\n  \"fields\": [\n    {\n      \"column\": \"article_link\",\n      \"properties\": {\n        \"dtype\": \"string\",\n        \"num_unique_values\": 26708,\n        \"samples\": [\n          \"https://www.theonion.com/isis-recruiter-excited-to-be-talking-to-popular-high-sc-1819579508\",\n          \"https://www.huffingtonpost.com/entry/jimmy-fallon-could-barely-keep-it-together-during-this-cardi-b-interview_us_5a3c01aae4b06d1621b2de98\",\n          \"https://www.huffingtonpost.com/entry/4-ways-to-support-farmtos_b_5906452.html\"\n        ],\n        \"semantic_type\": \"\",\n        \"description\": \"\"\n      }\n    },\n    {\n      \"column\": \"headline\",\n      \"properties\": {\n        \"dtype\": \"string\",\n        \"num_unique_values\": 26602,\n        \"samples\": [\n          \"departing employee not quite important enough for send-off\",\n          \"college student still managing to look like asshole in picture of village he helped build\",\n          \"fun sticker placed on child's ventilator\"\n        ],\n        \"semantic_type\": \"\",\n        \"description\": \"\"\n      }\n    },\n    {\n      \"column\": \"is_sarcastic\",\n      \"properties\": {\n        \"dtype\": \"number\",\n        \"std\": 0,\n        \"min\": 0,\n        \"max\": 1,\n        \"num_unique_values\": 2,\n        \"samples\": [\n          1,\n          0\n        ],\n        \"semantic_type\": \"\",\n        \"description\": \"\"\n      }\n    }\n  ]\n}"
            }
          },
          "metadata": {},
          "execution_count": 3
        }
      ]
    },
    {
      "cell_type": "markdown",
      "source": [
        "Na wykresie rozkładu klas widzimy, że dane są trochę niezbilansowane. Liczba nagłówków nie-sarkastycznych (klasa 0) jest większa niż nagłówków sarkastycznych (klasa 1).\n",
        "\n",
        "- Klasa \"Nie-sarkazm\" (0): ok. 15 000 przykładów\n",
        "\n",
        "- Klasa \"Sarkazm\" (1): ok. 11 500 przykładów\n",
        "\n",
        "Różnica między klasami nie jest drastyczna, ale wystarczająca, by uwzględnić ją przy trenowaniu modelu, np. przez:\n",
        "\n",
        "- **użycie metryki F1-score zamiast samej accuracy**. Accuracy (dokładność) mierzy tylko ogólny procent poprawnych predykcji. Np: jeśli 60% danych to klasa 0 (nie-sarkazm), model przewidujący zawsze „0” osiągnie accuracy = 60%, mimo że nigdy nie rozpozna sarkazmu (klasa 1). F1-score uwzględnia zarówno precyzję (czy model się nie myli, gdy mówi \"sarkazm\") oraz czułość/recall (potrafi odpowiednio rozpoznać jak najwięcej nagłówków, które naprawdę są sarkastyczne).\n",
        "\n",
        "- **zastosowanie wag klas (class_weight) podczas trenowania modelu**. Dzięki temu model uczy się traktować pomyłki na rzadkiej klasie jako bardziej znaczące, co zwiększa jego szansę na poprawne rozpoznawanie mniej licznych przypadków.\n",
        "\n",
        "- **rozważenie przetwarzania danych (np. undersampling/oversampling), jeśli model będzie miał problem z generalizacją.** Dane można poprawić np. zmniejszając liczbę przykładów klasy dominującej (undersampling) albo zwiększając liczbę przykładów klasy rzadkiej (oversampling), żeby model miał szansę lepiej nauczyć się obu klas."
      ],
      "metadata": {
        "id": "kDV4GbBo-Pw4"
      }
    },
    {
      "cell_type": "code",
      "source": [
        "# Wybieramy tylko potrzebne kolumny ('headline' i 'is_sarcastic') oraz zmieniamy ich nazwy ('text' i 'label')\n",
        "df = df[['headline', 'is_sarcastic']].rename(columns={'headline': 'text', 'is_sarcastic': 'label'})\n",
        "\n",
        "# Rozkład klas\n",
        "plt.figure(figsize=(6, 4))\n",
        "sns.countplot(x='label', data=df, palette='Set2')\n",
        "plt.xticks([0, 1], ['Nie-sarkazm', 'Sarkazm'])\n",
        "plt.title(\"Rozkład klas\")\n",
        "plt.xlabel(\"Klasa\")\n",
        "plt.ylabel(\"Liczba przykładów\")\n",
        "plt.show()"
      ],
      "metadata": {
        "colab": {
          "base_uri": "https://localhost:8080/",
          "height": 517
        },
        "id": "G87LNfUa6psV",
        "outputId": "bb2d64be-62c3-41e7-f9c1-981d71f71b37"
      },
      "execution_count": 4,
      "outputs": [
        {
          "output_type": "stream",
          "name": "stderr",
          "text": [
            "<ipython-input-4-7c03e16a3b10>:6: FutureWarning: \n",
            "\n",
            "Passing `palette` without assigning `hue` is deprecated and will be removed in v0.14.0. Assign the `x` variable to `hue` and set `legend=False` for the same effect.\n",
            "\n",
            "  sns.countplot(x='label', data=df, palette='Set2')\n"
          ]
        },
        {
          "output_type": "display_data",
          "data": {
            "text/plain": [
              "<Figure size 600x400 with 1 Axes>"
            ],
            "image/png": "[encoded data removed]"
          },
          "metadata": {}
        }
      ]
    },
    {
      "cell_type": "code",
      "source": [
        "\"\"\"\n",
        "Czyścimy dane towrząc nową kolumnę, która zawiera tekst nagłówków, gdzie:\n",
        "- zamieniamy wszystkie litery na małe\n",
        "- usuwamy linki\n",
        "- usuwamy znaki interpunkcyjne\n",
        "- usuwamy cyfry\n",
        "\"\"\"\n",
        "def clean_text(text):\n",
        "    text = text.lower()\n",
        "    text = re.sub(r\"http\\S+|www.\\S+\", \"\", text)\n",
        "    text = re.sub(r\"[^\\w\\s]\", \"\", text)\n",
        "    text = re.sub(r\"\\d+\", \"\", text)\n",
        "    return text\n",
        "\n",
        "df['clean_text'] = df['text'].apply(clean_text)\n",
        "\n",
        "df.head()"
      ],
      "metadata": {
        "colab": {
          "base_uri": "https://localhost:8080/",
          "height": 293
        },
        "id": "3uoz7G-a9AnI",
        "outputId": "a1d8c9eb-4df0-4555-c7e7-1116df325efb"
      },
      "execution_count": 5,
      "outputs": [
        {
          "output_type": "execute_result",
          "data": {
            "text/plain": [
              "                                                text  label  \\\n",
              "0  former versace store clerk sues over secret 'b...      0   \n",
              "1  the 'roseanne' revival catches up to our thorn...      0   \n",
              "2  mom starting to fear son's web series closest ...      1   \n",
              "3  boehner just wants wife to listen, not come up...      1   \n",
              "4  j.k. rowling wishes snape happy birthday in th...      0   \n",
              "\n",
              "                                          clean_text  \n",
              "0  former versace store clerk sues over secret bl...  \n",
              "1  the roseanne revival catches up to our thorny ...  \n",
              "2  mom starting to fear sons web series closest t...  \n",
              "3  boehner just wants wife to listen not come up ...  \n",
              "4  jk rowling wishes snape happy birthday in the ...  "
            ],
            "text/html": [
              "\n",
              "  <div id=\"df-052a558a-3bcf-41ad-9cd6-11d70be9cf3f\" class=\"colab-df-container\">\n",
              "    <div>\n",
              "<style scoped>\n",
              "    .dataframe tbody tr th:only-of-type {\n",
              "        vertical-align: middle;\n",
              "    }\n",
              "\n",
              "    .dataframe tbody tr th {\n",
              "        vertical-align: top;\n",
              "    }\n",
              "\n",
              "    .dataframe thead th {\n",
              "        text-align: right;\n",
              "    }\n",
              "</style>\n",
              "<table border=\"1\" class=\"dataframe\">\n",
              "  <thead>\n",
              "    <tr style=\"text-align: right;\">\n",
              "      <th></th>\n",
              "      <th>text</th>\n",
              "      <th>label</th>\n",
              "      <th>clean_text</th>\n",
              "    </tr>\n",
              "  </thead>\n",
              "  <tbody>\n",
              "    <tr>\n",
              "      <th>0</th>\n",
              "      <td>former versace store clerk sues over secret 'b...</td>\n",
              "      <td>0</td>\n",
              "      <td>former versace store clerk sues over secret bl...</td>\n",
              "    </tr>\n",
              "    <tr>\n",
              "      <th>1</th>\n",
              "      <td>the 'roseanne' revival catches up to our thorn...</td>\n",
              "      <td>0</td>\n",
              "      <td>the roseanne revival catches up to our thorny ...</td>\n",
              "    </tr>\n",
              "    <tr>\n",
              "      <th>2</th>\n",
              "      <td>mom starting to fear son's web series closest ...</td>\n",
              "      <td>1</td>\n",
              "      <td>mom starting to fear sons web series closest t...</td>\n",
              "    </tr>\n",
              "    <tr>\n",
              "      <th>3</th>\n",
              "      <td>boehner just wants wife to listen, not come up...</td>\n",
              "      <td>1</td>\n",
              "      <td>boehner just wants wife to listen not come up ...</td>\n",
              "    </tr>\n",
              "    <tr>\n",
              "      <th>4</th>\n",
              "      <td>j.k. rowling wishes snape happy birthday in th...</td>\n",
              "      <td>0</td>\n",
              "      <td>jk rowling wishes snape happy birthday in the ...</td>\n",
              "    </tr>\n",
              "  </tbody>\n",
              "</table>\n",
              "</div>\n",
              "    <div class=\"colab-df-buttons\">\n",
              "\n",
              "  <div class=\"colab-df-container\">\n",
              "    <button class=\"colab-df-convert\" onclick=\"convertToInteractive('df-052a558a-3bcf-41ad-9cd6-11d70be9cf3f')\"\n",
              "            title=\"Convert this dataframe to an interactive table.\"\n",
              "            style=\"display:none;\">\n",
              "\n",
              "  <svg xmlns=\"http://www.w3.org/2000/svg\" height=\"24px\" viewBox=\"0 -960 960 960\">\n",
              "    <path d=\"M120-120v-720h720v720H120Zm60-500h600v-160H180v160Zm220 220h160v-160H400v160Zm0 220h160v-160H400v160ZM180-400h160v-160H180v160Zm440 0h160v-160H620v160ZM180-180h160v-160H180v160Zm440 0h160v-160H620v160Z\"/>\n",
              "  </svg>\n",
              "    </button>\n",
              "\n",
              "  <style>\n",
              "    .colab-df-container {\n",
              "      display:flex;\n",
              "      gap: 12px;\n",
              "    }\n",
              "\n",
              "    .colab-df-convert {\n",
              "      background-color: #E8F0FE;\n",
              "      border: none;\n",
              "      border-radius: 50%;\n",
              "      cursor: pointer;\n",
              "      display: none;\n",
              "      fill: #1967D2;\n",
              "      height: 32px;\n",
              "      padding: 0 0 0 0;\n",
              "      width: 32px;\n",
              "    }\n",
              "\n",
              "    .colab-df-convert:hover {\n",
              "      background-color: #E2EBFA;\n",
              "      box-shadow: 0px 1px 2px rgba(60, 64, 67, 0.3), 0px 1px 3px 1px rgba(60, 64, 67, 0.15);\n",
              "      fill: #174EA6;\n",
              "    }\n",
              "\n",
              "    .colab-df-buttons div {\n",
              "      margin-bottom: 4px;\n",
              "    }\n",
              "\n",
              "    [theme=dark] .colab-df-convert {\n",
              "      background-color: #3B4455;\n",
              "      fill: #D2E3FC;\n",
              "    }\n",
              "\n",
              "    [theme=dark] .colab-df-convert:hover {\n",
              "      background-color: #434B5C;\n",
              "      box-shadow: 0px 1px 3px 1px rgba(0, 0, 0, 0.15);\n",
              "      filter: drop-shadow(0px 1px 2px rgba(0, 0, 0, 0.3));\n",
              "      fill: #FFFFFF;\n",
              "    }\n",
              "  </style>\n",
              "\n",
              "    <script>\n",
              "      const buttonEl =\n",
              "        document.querySelector('#df-052a558a-3bcf-41ad-9cd6-11d70be9cf3f button.colab-df-convert');\n",
              "      buttonEl.style.display =\n",
              "        google.colab.kernel.accessAllowed ? 'block' : 'none';\n",
              "\n",
              "      async function convertToInteractive(key) {\n",
              "        const element = document.querySelector('#df-052a558a-3bcf-41ad-9cd6-11d70be9cf3f');\n",
              "        const dataTable =\n",
              "          await google.colab.kernel.invokeFunction('convertToInteractive',\n",
              "                                                    [key], {});\n",
              "        if (!dataTable) return;\n",
              "\n",
              "        const docLinkHtml = 'Like what you see? Visit the ' +\n",
              "          '<a target=\"_blank\" href=https://colab.research.google.com/notebooks/data_table.ipynb>data table notebook</a>'\n",
              "          + ' to learn more about interactive tables.';\n",
              "        element.innerHTML = '';\n",
              "        dataTable['output_type'] = 'display_data';\n",
              "        await google.colab.output.renderOutput(dataTable, element);\n",
              "        const docLink = document.createElement('div');\n",
              "        docLink.innerHTML = docLinkHtml;\n",
              "        element.appendChild(docLink);\n",
              "      }\n",
              "    </script>\n",
              "  </div>\n",
              "\n",
              "\n",
              "    <div id=\"df-097f8353-92b5-49e4-abac-6053b2f6ef83\">\n",
              "      <button class=\"colab-df-quickchart\" onclick=\"quickchart('df-097f8353-92b5-49e4-abac-6053b2f6ef83')\"\n",
              "                title=\"Suggest charts\"\n",
              "                style=\"display:none;\">\n",
              "\n",
              "<svg xmlns=\"http://www.w3.org/2000/svg\" height=\"24px\"viewBox=\"0 0 24 24\"\n",
              "     width=\"24px\">\n",
              "    <g>\n",
              "        <path d=\"M19 3H5c-1.1 0-2 .9-2 2v14c0 1.1.9 2 2 2h14c1.1 0 2-.9 2-2V5c0-1.1-.9-2-2-2zM9 17H7v-7h2v7zm4 0h-2V7h2v10zm4 0h-2v-4h2v4z\"/>\n",
              "    </g>\n",
              "</svg>\n",
              "      </button>\n",
              "\n",
              "<style>\n",
              "  .colab-df-quickchart {\n",
              "      --bg-color: #E8F0FE;\n",
              "      --fill-color: #1967D2;\n",
              "      --hover-bg-color: #E2EBFA;\n",
              "      --hover-fill-color: #174EA6;\n",
              "      --disabled-fill-color: #AAA;\n",
              "      --disabled-bg-color: #DDD;\n",
              "  }\n",
              "\n",
              "  [theme=dark] .colab-df-quickchart {\n",
              "      --bg-color: #3B4455;\n",
              "      --fill-color: #D2E3FC;\n",
              "      --hover-bg-color: #434B5C;\n",
              "      --hover-fill-color: #FFFFFF;\n",
              "      --disabled-bg-color: #3B4455;\n",
              "      --disabled-fill-color: #666;\n",
              "  }\n",
              "\n",
              "  .colab-df-quickchart {\n",
              "    background-color: var(--bg-color);\n",
              "    border: none;\n",
              "    border-radius: 50%;\n",
              "    cursor: pointer;\n",
              "    display: none;\n",
              "    fill: var(--fill-color);\n",
              "    height: 32px;\n",
              "    padding: 0;\n",
              "    width: 32px;\n",
              "  }\n",
              "\n",
              "  .colab-df-quickchart:hover {\n",
              "    background-color: var(--hover-bg-color);\n",
              "    box-shadow: 0 1px 2px rgba(60, 64, 67, 0.3), 0 1px 3px 1px rgba(60, 64, 67, 0.15);\n",
              "    fill: var(--button-hover-fill-color);\n",
              "  }\n",
              "\n",
              "  .colab-df-quickchart-complete:disabled,\n",
              "  .colab-df-quickchart-complete:disabled:hover {\n",
              "    background-color: var(--disabled-bg-color);\n",
              "    fill: var(--disabled-fill-color);\n",
              "    box-shadow: none;\n",
              "  }\n",
              "\n",
              "  .colab-df-spinner {\n",
              "    border: 2px solid var(--fill-color);\n",
              "    border-color: transparent;\n",
              "    border-bottom-color: var(--fill-color);\n",
              "    animation:\n",
              "      spin 1s steps(1) infinite;\n",
              "  }\n",
              "\n",
              "  @keyframes spin {\n",
              "    0% {\n",
              "      border-color: transparent;\n",
              "      border-bottom-color: var(--fill-color);\n",
              "      border-left-color: var(--fill-color);\n",
              "    }\n",
              "    20% {\n",
              "      border-color: transparent;\n",
              "      border-left-color: var(--fill-color);\n",
              "      border-top-color: var(--fill-color);\n",
              "    }\n",
              "    30% {\n",
              "      border-color: transparent;\n",
              "      border-left-color: var(--fill-color);\n",
              "      border-top-color: var(--fill-color);\n",
              "      border-right-color: var(--fill-color);\n",
              "    }\n",
              "    40% {\n",
              "      border-color: transparent;\n",
              "      border-right-color: var(--fill-color);\n",
              "      border-top-color: var(--fill-color);\n",
              "    }\n",
              "    60% {\n",
              "      border-color: transparent;\n",
              "      border-right-color: var(--fill-color);\n",
              "    }\n",
              "    80% {\n",
              "      border-color: transparent;\n",
              "      border-right-color: var(--fill-color);\n",
              "      border-bottom-color: var(--fill-color);\n",
              "    }\n",
              "    90% {\n",
              "      border-color: transparent;\n",
              "      border-bottom-color: var(--fill-color);\n",
              "    }\n",
              "  }\n",
              "</style>\n",
              "\n",
              "      <script>\n",
              "        async function quickchart(key) {\n",
              "          const quickchartButtonEl =\n",
              "            document.querySelector('#' + key + ' button');\n",
              "          quickchartButtonEl.disabled = true;  // To prevent multiple clicks.\n",
              "          quickchartButtonEl.classList.add('colab-df-spinner');\n",
              "          try {\n",
              "            const charts = await google.colab.kernel.invokeFunction(\n",
              "                'suggestCharts', [key], {});\n",
              "          } catch (error) {\n",
              "            console.error('Error during call to suggestCharts:', error);\n",
              "          }\n",
              "          quickchartButtonEl.classList.remove('colab-df-spinner');\n",
              "          quickchartButtonEl.classList.add('colab-df-quickchart-complete');\n",
              "        }\n",
              "        (() => {\n",
              "          let quickchartButtonEl =\n",
              "            document.querySelector('#df-097f8353-92b5-49e4-abac-6053b2f6ef83 button');\n",
              "          quickchartButtonEl.style.display =\n",
              "            google.colab.kernel.accessAllowed ? 'block' : 'none';\n",
              "        })();\n",
              "      </script>\n",
              "    </div>\n",
              "\n",
              "    </div>\n",
              "  </div>\n"
            ],
            "application/vnd.google.colaboratory.intrinsic+json": {
              "type": "dataframe",
              "variable_name": "df",
              "summary": "{\n  \"name\": \"df\",\n  \"rows\": 26709,\n  \"fields\": [\n    {\n      \"column\": \"text\",\n      \"properties\": {\n        \"dtype\": \"string\",\n        \"num_unique_values\": 26602,\n        \"samples\": [\n          \"departing employee not quite important enough for send-off\",\n          \"college student still managing to look like asshole in picture of village he helped build\",\n          \"fun sticker placed on child's ventilator\"\n        ],\n        \"semantic_type\": \"\",\n        \"description\": \"\"\n      }\n    },\n    {\n      \"column\": \"label\",\n      \"properties\": {\n        \"dtype\": \"number\",\n        \"std\": 0,\n        \"min\": 0,\n        \"max\": 1,\n        \"num_unique_values\": 2,\n        \"samples\": [\n          1,\n          0\n        ],\n        \"semantic_type\": \"\",\n        \"description\": \"\"\n      }\n    },\n    {\n      \"column\": \"clean_text\",\n      \"properties\": {\n        \"dtype\": \"string\",\n        \"num_unique_values\": 26577,\n        \"samples\": [\n          \"pregnancy isnt always pretty\",\n          \"ten years after last execution californias death row continues to grow\"\n        ],\n        \"semantic_type\": \"\",\n        \"description\": \"\"\n      }\n    }\n  ]\n}"
            }
          },
          "metadata": {},
          "execution_count": 5
        }
      ]
    },
    {
      "cell_type": "markdown",
      "source": [
        "Większość nagłówków ma długość od 6 do 13 słów. Rozkład ma kształt zbliżony do rozkładu normalnego z lekkim ogonem w prawo, co oznacza, że rzadziej występują bardzo krótkie (poniżej 3 słów) lub bardzo długie (powyżej 20 słów) nagłówki.\n",
        "\n",
        "Każdy słupek pokazuje, ile nagłówków ma długość mieszczącą się w danym zakresie liczby słów.\n",
        "Np: słupek nad liczbą 10 pokazuje, ilu nagłówków ma dokładnie (lub prawie) 10 słów.\n",
        "\n",
        "Krzywa pokazuje wygładzony przebieg rozkładu długości nagłówków. Dzięki niej łatwiej zobaczyć ogólny kształt danych (np. czy rozkład jest symetryczny, czy ma ogon z jednej strony).\n",
        "Jest to estymacja tego, jak często występują różne długości, bez sztywnego podziału na przedziały jak w histogramie."
      ],
      "metadata": {
        "id": "SZ0Ki2-mDPgF"
      }
    },
    {
      "cell_type": "code",
      "source": [
        "# Analiza długości tekstów\n",
        "\n",
        "df['length'] = df['clean_text'].apply(lambda x: len(x.split()))\n",
        "\n",
        "plt.figure(figsize=(8, 4))\n",
        "sns.histplot(df['length'], bins=30, kde=True, color='purple')\n",
        "plt.title(\"Rozkład długości nagłówków\")\n",
        "plt.xlabel(\"Liczba słów\")\n",
        "plt.ylabel(\"Liczba nagłówków\")\n",
        "plt.show()"
      ],
      "metadata": {
        "colab": {
          "base_uri": "https://localhost:8080/",
          "height": 402
        },
        "id": "JPyLJh4wCwSD",
        "outputId": "7788ed89-b551-4706-8e0c-0dcdc98d87ec"
      },
      "execution_count": 6,
      "outputs": [
        {
          "output_type": "display_data",
          "data": {
            "text/plain": [
              "<Figure size 800x400 with 1 Axes>"
            ],
            "image/png": "[encoded data removed]"
          },
          "metadata": {}
        }
      ]
    },
    {
      "cell_type": "markdown",
      "source": [
        "# Przetwarzanie danych"
      ],
      "metadata": {
        "id": "3dR51c-XGUlZ"
      }
    },
    {
      "cell_type": "code",
      "source": [
        "# Podział danych na zbiór treningowy i testowy\n",
        "X = df['clean_text']\n",
        "y = df['label']\n",
        "\n",
        "X_train, X_test, y_train, y_test = train_test_split(\n",
        "    X, y, test_size=0.2, stratify=y, random_state=42)\n",
        "\n",
        "\"\"\"\n",
        "test_size=0.2 - 20% danych trafia do testu, 80% do treningu\n",
        "\n",
        "stratify=y - zachowujemy proporcje klas w obu zbiorach (sarkazm i nie-sarkazm)\n",
        "\n",
        "random_state=42 - ustalamy losowość, żeby podział był powtarzalny (ziarno losowości)\n",
        "Dzięki temu:\n",
        " - za każdym razem, gdy uruchamiamy kod, dane zostaną podzielone w dokładnie ten sam sposób,\n",
        " - pozwala to powtórzyć eksperyment z identycznym wynikiem (tzw. replikowalność).\n",
        "Liczba 42 nie ma specjalnego znaczenia. Może być dowolna, ale użycie tej samej liczby zawsze da taki sam podział danych.\n",
        "\"\"\""
      ],
      "metadata": {
        "colab": {
          "base_uri": "https://localhost:8080/",
          "height": 140
        },
        "id": "rloVVNi2Gb7b",
        "outputId": "3b19ed1a-1107-4157-9df5-b23e136e3435"
      },
      "execution_count": 7,
      "outputs": [
        {
          "output_type": "execute_result",
          "data": {
            "text/plain": [
              "'\\ntest_size=0.2 - 20% danych trafia do testu, 80% do treningu\\n\\nstratify=y - zachowujemy proporcje klas w obu zbiorach (sarkazm i nie-sarkazm)\\n\\nrandom_state=42 - ustalamy losowość, żeby podział był powtarzalny (ziarno losowości)\\nDzięki temu:\\n - za każdym razem, gdy uruchamiamy kod, dane zostaną podzielone w dokładnie ten sam sposób,\\n - pozwala to powtórzyć eksperyment z identycznym wynikiem (tzw. replikowalność).\\nLiczba 42 nie ma specjalnego znaczenia. Może być dowolna, ale użycie tej samej liczby zawsze da taki sam podział danych.\\n'"
            ],
            "application/vnd.google.colaboratory.intrinsic+json": {
              "type": "string"
            }
          },
          "metadata": {},
          "execution_count": 7
        }
      ]
    },
    {
      "cell_type": "markdown",
      "source": [
        "Na wykresie przedstawiono częstość występowania słów w zbiorze treningowym, uporządkowaną według częstości (od najczęstszych po najrzadsze). Widać, że liczba wystąpień słów gwałtownie spada po około 8000 najczęściej używanych słów, co zaznaczono czerwoną linią przerywaną.\n",
        "\n",
        "Stąd wnioskujemy, że ustawienie VOCAB_SIZE = 8000 w warstwie wektoryzującej pozwala zachować najczęściej występujące i najważniejsze słowa, a jednocześnie ogranicza rozmiar słownika i złożoność modelu, co jest optymalne dla skuteczności i wydajności treningu."
      ],
      "metadata": {
        "id": "guYYK6vLwR94"
      }
    },
    {
      "cell_type": "code",
      "source": [
        "# Rozdzielenie wszystkich słów w zbiorze treningowym\n",
        "all_words = \" \".join(X_train).lower().split()\n",
        "word_counts = Counter(all_words)\n",
        "\n",
        "# Posortowana lista częstości\n",
        "sorted_counts = sorted(word_counts.values(), reverse=True)\n",
        "\n",
        "plt.figure(figsize=(10, 5))\n",
        "plt.plot(sorted_counts, label='Częstość wystąpień')\n",
        "plt.axvline(x=8000, color='red', linestyle='--', label='VOCAB_SIZE = 8000')  # pionowa linia pomocnicza\n",
        "plt.title(\"Częstość słów w zbiorze treningowym\")\n",
        "plt.xlabel(\"Ranga słowa (im dalej, tym rzadsze)\")\n",
        "plt.ylabel(\"Liczba wystąpień\")\n",
        "plt.yscale(\"log\")  # skala logarytmiczna dla czytelności\n",
        "plt.legend()\n",
        "plt.grid(True)\n",
        "plt.show()"
      ],
      "metadata": {
        "colab": {
          "base_uri": "https://localhost:8080/",
          "height": 398
        },
        "id": "PHeTGllKwDp9",
        "outputId": "1cd66298-c07a-42d8-b380-51285a7bd441"
      },
      "execution_count": 8,
      "outputs": [
        {
          "output_type": "display_data",
          "data": {
            "text/plain": [
              "<Figure size 1000x500 with 1 Axes>"
            ],
            "image/png": "[encoded data removed]"
          },
          "metadata": {}
        }
      ]
    },
    {
      "cell_type": "code",
      "source": [
        "# Parametry wektoryzacji\n",
        "VOCAB_SIZE = 8000         # Maksymalna liczba słów w słowniku (najczęstsze słowa zostaną użyte)\n",
        "SEQUENCE_LENGTH = 15      # Wszystkie teksty zostaną przycięte lub wydłużone do tej długości\n",
        "\n",
        "# Tworzymy warstwę TextVectorization\n",
        "vectorize_layer = layers.TextVectorization(\n",
        "    max_tokens=VOCAB_SIZE,              # Ograniczenie liczby słów w słowniku\n",
        "    output_mode='int',                  # Zamiana słów na liczby całkowite (indeksy)\n",
        "    output_sequence_length=SEQUENCE_LENGTH,  # Ustalona długość każdej sekwencji\n",
        "    split='whitespace'                  # Podział tekstu na słowa po spacji\n",
        ")\n",
        "\n",
        "# Dopasowujemy warstwę do danych treningowych (nauka słownika)\n",
        "vectorize_layer.adapt(X_train)\n",
        "\n",
        "# Wektoryzacja tekstu treningowego i testowego\n",
        "X_train_vec = vectorize_layer(X_train)\n",
        "X_test_vec = vectorize_layer(X_test)\n",
        "\n",
        "\"\"\"\n",
        "vectorize_layer.adapt() uczy się najczęstszych słów na podstawie danych treningowych.\n",
        "\n",
        "vectorize_layer() zamienia tekst na liczby (tokeny),\n",
        "ogranicza długość sekwencji i dopełnia/podcina dane automatycznie.\n",
        "\n",
        "Zamiana jest bezpośrednia: \"This is funny\" -> [12, 45, 9, 0, 0, 0, ...] (długość 15)\n",
        "\"\"\"\n",
        "\n",
        "# Podgląd kształtów zbiorów danych\n",
        "print(\"Shape X_train:\", X_train_vec.shape)\n",
        "print(\"Shape X_test:\", X_test_vec.shape)\n",
        "print(\"Shape y_train:\", y_train.shape)\n",
        "print(\"Shape y_test:\", y_test.shape)\n",
        "\n",
        "# Przykładowe dane (pierwsze 3 wiersze)\n",
        "print(\"=== test ===\")\n",
        "print(X_test_vec[:3])\n",
        "print(y_test[:3].values)\n",
        "\n",
        "print(\"=== train ===\")\n",
        "print(X_train_vec[:3])\n",
        "print(y_train[:3].values)"
      ],
      "metadata": {
        "colab": {
          "base_uri": "https://localhost:8080/"
        },
        "id": "5IPt2_8SGsiT",
        "outputId": "a7205eec-9835-4369-b346-7996f68556b0"
      },
      "execution_count": 9,
      "outputs": [
        {
          "output_type": "stream",
          "name": "stdout",
          "text": [
            "Shape X_train: (21367, 15)\n",
            "Shape X_test: (5342, 15)\n",
            "Shape y_train: (21367,)\n",
            "Shape y_test: (5342,)\n",
            "=== test ===\n",
            "tf.Tensor(\n",
            "[[   4    1   36 2087    1   54   91  376    4  425   88    0    0    0\n",
            "     0]\n",
            " [1332 1149 5231  825  728  596   16   14 1222    0    0    0    0    0\n",
            "     0]\n",
            " [ 491    1  215  118    1  253    2 1600   25   94  572 2214    0    0\n",
            "     0]], shape=(3, 15), dtype=int64)\n",
            "[0 0 1]\n",
            "=== train ===\n",
            "tf.Tensor(\n",
            "[[ 587 4485 4717    0    0    0    0    0    0    0    0    0    0    0\n",
            "     0]\n",
            " [ 274 3399    1  251 1228 2048 3681    0    0    0    0    0    0    0\n",
            "     0]\n",
            " [1973    1 6358  914  260  351    5 4204    0    0    0    0    0    0\n",
            "     0]], shape=(3, 15), dtype=int64)\n",
            "[1 1 0]\n"
          ]
        }
      ]
    },
    {
      "cell_type": "markdown",
      "source": [
        "# Model 1: BiGRU\n",
        "\n",
        "BiGRU (Bidirectional GRU) to typ warstwy w sieci neuronowej, która przetwarza tekst zarówno od początku do końca, jak i od końca do początku. Dzięki temu lepiej rozumie kontekst całego zdania (np. znaczenie słowa może zależeć od tego, co pojawiło się przed nim i po nim).\n",
        "\n",
        "GRU (Gated Recurrent Unit) to rodzaj warstwy używanej w sieciach neuronowych do analizy sekwencji, np. tekstu. Działa podobnie do LSTM, ale ma prostszą budowę i działa szybciej. Główna zaleta GRU polega na tym, że potrafi zapamiętać ważne informacje z wcześniejszych słów, które są istotne dla zrozumienia bieżącego słowa."
      ],
      "metadata": {
        "id": "ySs37bJnA2Ea"
      }
    },
    {
      "cell_type": "code",
      "source": [
        "# Budujemy model BiGRU (dwukierunkowy GRU) z dwoma warstwami GRU i zabezpieczeniem przed przeuczeniem\n",
        "\n",
        "\n",
        "def build_bigru_model():\n",
        "    model = tf.keras.Sequential([\n",
        "\n",
        "        # Warstwa Embedding - zamienia tokeny (liczby całkowite) na gęste wektory\n",
        "        # Zwiększona liczba wymiarów wektorów z 64 do 128, by lepiej oddać znaczenie słów\n",
        "        layers.Embedding(input_dim=VOCAB_SIZE, output_dim=128, input_length=SEQUENCE_LENGTH),\n",
        "\n",
        "        # Pierwsza warstwa GRU - zwraca pełne sekwencje (return_sequences=True),\n",
        "        # żeby druga warstwa GRU miała dostęp do wszystkich kroków\n",
        "        layers.Bidirectional(layers.GRU(64, return_sequences=True)),\n",
        "\n",
        "        # Druga warstwa GRU - analizuje pełne sekwencje i zwraca pojedynczy wektor\n",
        "        layers.Bidirectional(layers.GRU(64)),\n",
        "\n",
        "        # Dropout - wyłącza losowe neurony w czasie treningu, by zapobiegać przeuczeniu\n",
        "        layers.Dropout(0.5),\n",
        "\n",
        "        # Gęsta warstwa z aktywacją ReLU i regularyzacją L2\n",
        "        # Pomaga nauczyć się bardziej ogólnych cech i zmniejszyć ryzyko przeuczenia\n",
        "        layers.Dense(32, activation='relu', kernel_regularizer=tf.keras.regularizers.l2(0.001)),\n",
        "\n",
        "        # Dodatkowy Dropout - dla bezpieczeństwa\n",
        "        layers.Dropout(0.3),\n",
        "\n",
        "        # Warstwa wyjściowa: 1 neuron z aktywacją sigmoid, daje wynik w zakresie [0, 1]\n",
        "        layers.Dense(1, activation='sigmoid')\n",
        "    ])\n",
        "\n",
        "    # Kompilacja modelu\n",
        "    model.compile(\n",
        "        loss='binary_crossentropy',\n",
        "        optimizer='adam',  # Adam - inteligentne dostosowanie szybkości uczenia się\n",
        "        metrics=['accuracy']  # Metryka -> dokładność (accuracy)\n",
        "    )\n",
        "\n",
        "    return model\n",
        "\n",
        "\n",
        "\"\"\"\n",
        "Warstwa Embedding:\n",
        "- Zamienia liczby (np. 42) na wektory o 64 wartościach (np. [0.1, -0.2, ..., 0.5])\n",
        "- Te wektory są uczone automatycznie - model sam odkrywa, że np. \"film\" i \"kino\" są podobne\n",
        "\n",
        "Bidirectional GRU:\n",
        "- GRU to warstwa, która czyta tekst jako sekwencję\n",
        "- Dwukierunkowa (Bidirectional) oznacza, że przetwarza tekst od lewej do prawej i od prawej do lewej\n",
        "- To pomaga lepiej zrozumieć znaczenie zdań\n",
        "\n",
        "Dropout:\n",
        "- Podczas treningu losowo \"wyłącza\" część neuronów\n",
        "- Dzięki temu model uczy się bardziej ogólnych wzorców, a nie zapamiętuje danych\n",
        "\n",
        "Dense (z ReLU):\n",
        "- Zwykła warstwa w pełni połączona - każdy neuron ma połączenie z poprzednią warstwą\n",
        "- ReLU = tylko dodatnie wartości przechodzą dalej (ujemne zamieniane na 0)\n",
        "\n",
        "Dense (z sigmoid):\n",
        "- Wyjście modelu\n",
        "- 1 neuron, który daje wynik w zakresie [0, 1], np. 0.92 = 92% pewności, że to sarkazm\n",
        "\n",
        "Funkcja straty: binary_crossentropy\n",
        "- Porównuje przewidywania modelu z prawdziwymi etykietami (0 lub 1)\n",
        "- Uczy model, żeby jego przewidywania były jak najbliższe rzeczywistości\n",
        "- Np. Im bliżej prawdy (np. model przewidzi 0.98 dla etykiety 1), tym niższa kara (mniejsza wartość funkcji straty)\n",
        "\n",
        "Optymalizator: Adam\n",
        "- Dynamicznie dostosowuje tempo uczenia -> szybciej tam, gdzie trzeba, wolniej tam, gdzie nie trzeba\n",
        "\"\"\"\n",
        "\n",
        "# Tworzymy model\n",
        "bigru_model = build_bigru_model()\n",
        "\n",
        "# Wyświetlamy architekturę modelu\n",
        "bigru_model.summary()\n",
        "\n",
        "# Obliczamy wagi klas automatycznie na podstawie y_train\n",
        "class_weights = class_weight.compute_class_weight(\n",
        "    class_weight='balanced',\n",
        "    classes=np.unique(y_train),\n",
        "    y=y_train\n",
        ")\n",
        "\n",
        "\"\"\"\n",
        "balanced:\n",
        "- Funkcja automatycznie obliczy wagi odwrotnie proporcjonalne do częstości klas\n",
        "- Rzadsza klasa dostaje większą wagę, bo model musi \"bardziej się postarać\", żeby jej nie ignorować\n",
        "\n",
        "classes=np.unique(y_train):\n",
        "- Lista wszystkich klas (tu [0, 1])\n",
        "\n",
        "y=y_train:\n",
        "- To wektor etykiet (np. [0, 0, 1, 0, 1, ...]), z którego obliczana jest częstość klas\n",
        "\"\"\"\n",
        "\n",
        "# Zamieniamy na słownik\n",
        "class_weights = dict(enumerate(class_weights))\n",
        "\n",
        "# Dodajemy EarlyStopping - zatrzymuje trening, jeśli model przestaje się poprawiać na walidacji\n",
        "early_stop = tf.keras.callbacks.EarlyStopping(\n",
        "    monitor='val_loss',\n",
        "    patience=2,           # jeśli przez 2 epoki nie ma poprawy - zatrzymaj\n",
        "    restore_best_weights=True  # przywróć najlepsze wagi\n",
        ")\n",
        "\n",
        "# Trening z wagami klas, walidacją i EarlyStopping\n",
        "history = bigru_model.fit(\n",
        "    X_train_vec, y_train,\n",
        "    validation_data=(X_test_vec, y_test),\n",
        "    epochs=10,\n",
        "    batch_size=32,\n",
        "    class_weight=class_weights,\n",
        "    callbacks=[early_stop]\n",
        ")"
      ],
      "metadata": {
        "colab": {
          "base_uri": "https://localhost:8080/",
          "height": 526
        },
        "id": "BBG-limsBhAr",
        "outputId": "099bba4b-e73c-456e-d6cf-1d8ac331a810"
      },
      "execution_count": 10,
      "outputs": [
        {
          "output_type": "stream",
          "name": "stderr",
          "text": [
            "/usr/local/lib/python3.11/dist-packages/keras/src/layers/core/embedding.py:90: UserWarning: Argument `input_length` is deprecated. Just remove it.\n",
            "  warnings.warn(\n"
          ]
        },
        {
          "output_type": "display_data",
          "data": {
            "text/plain": [
              "\u001b[1mModel: \"sequential\"\u001b[0m\n"
            ],
            "text/html": [
              "<pre style=\"white-space:pre;overflow-x:auto;line-height:normal;font-family:Menlo,'DejaVu Sans Mono',consolas,'Courier New',monospace\"><span style=\"font-weight: bold\">Model: \"sequential\"</span>\n",
              "</pre>\n"
            ]
          },
          "metadata": {}
        },
        {
          "output_type": "display_data",
          "data": {
            "text/plain": [
              "┏━━━━━━━━━━━━━━━━━━━━━━━━━━━━━━━━━┳━━━━━━━━━━━━━━━━━━━━━━━━┳━━━━━━━━━━━━━━━┓\n",
              "┃\u001b[1m \u001b[0m\u001b[1mLayer (type)                   \u001b[0m\u001b[1m \u001b[0m┃\u001b[1m \u001b[0m\u001b[1mOutput Shape          \u001b[0m\u001b[1m \u001b[0m┃\u001b[1m \u001b[0m\u001b[1m      Param #\u001b[0m\u001b[1m \u001b[0m┃\n",
              "┡━━━━━━━━━━━━━━━━━━━━━━━━━━━━━━━━━╇━━━━━━━━━━━━━━━━━━━━━━━━╇━━━━━━━━━━━━━━━┩\n",
              "│ embedding (\u001b[38;5;33mEmbedding\u001b[0m)           │ ?                      │   \u001b[38;5;34m0\u001b[0m (unbuilt) │\n",
              "├─────────────────────────────────┼────────────────────────┼───────────────┤\n",
              "│ bidirectional (\u001b[38;5;33mBidirectional\u001b[0m)   │ ?                      │   \u001b[38;5;34m0\u001b[0m (unbuilt) │\n",
              "├─────────────────────────────────┼────────────────────────┼───────────────┤\n",
              "│ bidirectional_1 (\u001b[38;5;33mBidirectional\u001b[0m) │ ?                      │   \u001b[38;5;34m0\u001b[0m (unbuilt) │\n",
              "├─────────────────────────────────┼────────────────────────┼───────────────┤\n",
              "│ dropout (\u001b[38;5;33mDropout\u001b[0m)               │ ?                      │             \u001b[38;5;34m0\u001b[0m │\n",
              "├─────────────────────────────────┼────────────────────────┼───────────────┤\n",
              "│ dense (\u001b[38;5;33mDense\u001b[0m)                   │ ?                      │   \u001b[38;5;34m0\u001b[0m (unbuilt) │\n",
              "├─────────────────────────────────┼────────────────────────┼───────────────┤\n",
              "│ dropout_1 (\u001b[38;5;33mDropout\u001b[0m)             │ ?                      │             \u001b[38;5;34m0\u001b[0m │\n",
              "├─────────────────────────────────┼────────────────────────┼───────────────┤\n",
              "│ dense_1 (\u001b[38;5;33mDense\u001b[0m)                 │ ?                      │   \u001b[38;5;34m0\u001b[0m (unbuilt) │\n",
              "└─────────────────────────────────┴────────────────────────┴───────────────┘\n"
            ],
            "text/html": [
              "<pre style=\"white-space:pre;overflow-x:auto;line-height:normal;font-family:Menlo,'DejaVu Sans Mono',consolas,'Courier New',monospace\">┏━━━━━━━━━━━━━━━━━━━━━━━━━━━━━━━━━┳━━━━━━━━━━━━━━━━━━━━━━━━┳━━━━━━━━━━━━━━━┓\n",
              "┃<span style=\"font-weight: bold\"> Layer (type)                    </span>┃<span style=\"font-weight: bold\"> Output Shape           </span>┃<span style=\"font-weight: bold\">       Param # </span>┃\n",
              "┡━━━━━━━━━━━━━━━━━━━━━━━━━━━━━━━━━╇━━━━━━━━━━━━━━━━━━━━━━━━╇━━━━━━━━━━━━━━━┩\n",
              "│ embedding (<span style=\"color: #0087ff; text-decoration-color: #0087ff\">Embedding</span>)           │ ?                      │   <span style=\"color: #00af00; text-decoration-color: #00af00\">0</span> (unbuilt) │\n",
              "├─────────────────────────────────┼────────────────────────┼───────────────┤\n",
              "│ bidirectional (<span style=\"color: #0087ff; text-decoration-color: #0087ff\">Bidirectional</span>)   │ ?                      │   <span style=\"color: #00af00; text-decoration-color: #00af00\">0</span> (unbuilt) │\n",
              "├─────────────────────────────────┼────────────────────────┼───────────────┤\n",
              "│ bidirectional_1 (<span style=\"color: #0087ff; text-decoration-color: #0087ff\">Bidirectional</span>) │ ?                      │   <span style=\"color: #00af00; text-decoration-color: #00af00\">0</span> (unbuilt) │\n",
              "├─────────────────────────────────┼────────────────────────┼───────────────┤\n",
              "│ dropout (<span style=\"color: #0087ff; text-decoration-color: #0087ff\">Dropout</span>)               │ ?                      │             <span style=\"color: #00af00; text-decoration-color: #00af00\">0</span> │\n",
              "├─────────────────────────────────┼────────────────────────┼───────────────┤\n",
              "│ dense (<span style=\"color: #0087ff; text-decoration-color: #0087ff\">Dense</span>)                   │ ?                      │   <span style=\"color: #00af00; text-decoration-color: #00af00\">0</span> (unbuilt) │\n",
              "├─────────────────────────────────┼────────────────────────┼───────────────┤\n",
              "│ dropout_1 (<span style=\"color: #0087ff; text-decoration-color: #0087ff\">Dropout</span>)             │ ?                      │             <span style=\"color: #00af00; text-decoration-color: #00af00\">0</span> │\n",
              "├─────────────────────────────────┼────────────────────────┼───────────────┤\n",
              "│ dense_1 (<span style=\"color: #0087ff; text-decoration-color: #0087ff\">Dense</span>)                 │ ?                      │   <span style=\"color: #00af00; text-decoration-color: #00af00\">0</span> (unbuilt) │\n",
              "└─────────────────────────────────┴────────────────────────┴───────────────┘\n",
              "</pre>\n"
            ]
          },
          "metadata": {}
        },
        {
          "output_type": "display_data",
          "data": {
            "text/plain": [
              "\u001b[1m Total params: \u001b[0m\u001b[38;5;34m0\u001b[0m (0.00 B)\n"
            ],
            "text/html": [
              "<pre style=\"white-space:pre;overflow-x:auto;line-height:normal;font-family:Menlo,'DejaVu Sans Mono',consolas,'Courier New',monospace\"><span style=\"font-weight: bold\"> Total params: </span><span style=\"color: #00af00; text-decoration-color: #00af00\">0</span> (0.00 B)\n",
              "</pre>\n"
            ]
          },
          "metadata": {}
        },
        {
          "output_type": "display_data",
          "data": {
            "text/plain": [
              "\u001b[1m Trainable params: \u001b[0m\u001b[38;5;34m0\u001b[0m (0.00 B)\n"
            ],
            "text/html": [
              "<pre style=\"white-space:pre;overflow-x:auto;line-height:normal;font-family:Menlo,'DejaVu Sans Mono',consolas,'Courier New',monospace\"><span style=\"font-weight: bold\"> Trainable params: </span><span style=\"color: #00af00; text-decoration-color: #00af00\">0</span> (0.00 B)\n",
              "</pre>\n"
            ]
          },
          "metadata": {}
        },
        {
          "output_type": "display_data",
          "data": {
            "text/plain": [
              "\u001b[1m Non-trainable params: \u001b[0m\u001b[38;5;34m0\u001b[0m (0.00 B)\n"
            ],
            "text/html": [
              "<pre style=\"white-space:pre;overflow-x:auto;line-height:normal;font-family:Menlo,'DejaVu Sans Mono',consolas,'Courier New',monospace\"><span style=\"font-weight: bold\"> Non-trainable params: </span><span style=\"color: #00af00; text-decoration-color: #00af00\">0</span> (0.00 B)\n",
              "</pre>\n"
            ]
          },
          "metadata": {}
        },
        {
          "output_type": "stream",
          "name": "stdout",
          "text": [
            "Epoch 1/10\n",
            "\u001b[1m668/668\u001b[0m \u001b[32m━━━━━━━━━━━━━━━━━━━━\u001b[0m\u001b[37m\u001b[0m \u001b[1m52s\u001b[0m 61ms/step - accuracy: 0.7474 - loss: 0.5121 - val_accuracy: 0.8590 - val_loss: 0.3404\n",
            "Epoch 2/10\n",
            "\u001b[1m668/668\u001b[0m \u001b[32m━━━━━━━━━━━━━━━━━━━━\u001b[0m\u001b[37m\u001b[0m \u001b[1m40s\u001b[0m 60ms/step - accuracy: 0.9180 - loss: 0.2267 - val_accuracy: 0.8624 - val_loss: 0.3472\n",
            "Epoch 3/10\n",
            "\u001b[1m668/668\u001b[0m \u001b[32m━━━━━━━━━━━━━━━━━━━━\u001b[0m\u001b[37m\u001b[0m \u001b[1m41s\u001b[0m 60ms/step - accuracy: 0.9541 - loss: 0.1342 - val_accuracy: 0.8512 - val_loss: 0.3635\n"
          ]
        }
      ]
    },
    {
      "cell_type": "markdown",
      "source": [
        "# Ocena modelu BiGRU\n"
      ],
      "metadata": {
        "id": "Hqf2duTsH4nR"
      }
    },
    {
      "cell_type": "code",
      "source": [
        "# Uzyskanie prognoz (prawdopodobieństw)\n",
        "y_pred_prob = bigru_model.predict(X_test_vec)\n",
        "\n",
        "# Zamiana prawdopodobieństw na klasy: 0 lub 1\n",
        "y_pred = (y_pred_prob > 0.5).astype(\"int32\").flatten()\n",
        "\n",
        "# Wyświetlenie raportu klasyfikacji\n",
        "print(\"=== Raport klasyfikacji ===\")\n",
        "print(classification_report(y_test, y_pred, target_names=[\"Nie-sarkazm\", \"Sarkazm\"]))\n",
        "\n",
        "# Confusion matrix\n",
        "cm = confusion_matrix(y_test, y_pred)\n",
        "\n",
        "# Wizualizacja macierzy pomyłek\n",
        "plt.figure(figsize=(6, 4))\n",
        "sns.heatmap(cm, annot=True, fmt=\"d\", cmap=\"Blues\",\n",
        "            xticklabels=[\"Nie-sarkazm\", \"Sarkazm\"],\n",
        "            yticklabels=[\"Nie-sarkazm\", \"Sarkazm\"])\n",
        "plt.xlabel(\"Przewidywana klasa\")\n",
        "plt.ylabel(\"Rzeczywista klasa\")\n",
        "plt.title(\"Confusion matrix\")\n",
        "plt.show()"
      ],
      "metadata": {
        "colab": {
          "base_uri": "https://localhost:8080/",
          "height": 601
        },
        "id": "px0-bDZ4MYqH",
        "outputId": "5347f21f-a9e3-43cb-83ae-1401d377e38a"
      },
      "execution_count": 11,
      "outputs": [
        {
          "output_type": "stream",
          "name": "stdout",
          "text": [
            "\u001b[1m167/167\u001b[0m \u001b[32m━━━━━━━━━━━━━━━━━━━━\u001b[0m\u001b[37m\u001b[0m \u001b[1m5s\u001b[0m 17ms/step\n",
            "=== Raport klasyfikacji ===\n",
            "              precision    recall  f1-score   support\n",
            "\n",
            " Nie-sarkazm       0.91      0.83      0.87      2997\n",
            "     Sarkazm       0.81      0.89      0.85      2345\n",
            "\n",
            "    accuracy                           0.86      5342\n",
            "   macro avg       0.86      0.86      0.86      5342\n",
            "weighted avg       0.86      0.86      0.86      5342\n",
            "\n"
          ]
        },
        {
          "output_type": "display_data",
          "data": {
            "text/plain": [
              "<Figure size 600x400 with 2 Axes>"
            ],
            "image/png": "[encoded data removed]"
          },
          "metadata": {}
        }
      ]
    },
    {
      "cell_type": "code",
      "source": [
        "# Krzywe uczenia się\n",
        "\n",
        "# Wykres dokładności\n",
        "plt.figure(figsize=(12, 5))\n",
        "plt.subplot(1, 2, 1)\n",
        "plt.plot(history.history['accuracy'], label='Trening')\n",
        "plt.plot(history.history['val_accuracy'], label='Walidacja')\n",
        "plt.title('Dokładność (accuracy)')\n",
        "plt.xlabel('Epoka')\n",
        "plt.ylabel('Wartość')\n",
        "plt.legend()\n",
        "\n",
        "# Wykres straty\n",
        "plt.subplot(1, 2, 2)\n",
        "plt.plot(history.history['loss'], label='Trening')\n",
        "plt.plot(history.history['val_loss'], label='Walidacja')\n",
        "plt.title('Strata (loss)')\n",
        "plt.xlabel('Epoka')\n",
        "plt.ylabel('Wartość')\n",
        "plt.legend()\n",
        "\n",
        "plt.tight_layout()\n",
        "plt.show()"
      ],
      "metadata": {
        "colab": {
          "base_uri": "https://localhost:8080/",
          "height": 301
        },
        "id": "dJ_qQOoSMlxM",
        "outputId": "4f5ad47d-8e42-4726-da4c-e350a16b20e6"
      },
      "execution_count": 12,
      "outputs": [
        {
          "output_type": "display_data",
          "data": {
            "text/plain": [
              "<Figure size 1200x500 with 2 Axes>"
            ],
            "image/png": "[encoded data removed]"
          },
          "metadata": {}
        }
      ]
    },
    {
      "cell_type": "markdown",
      "source": [
        "Po przeprowadzonej ewaluacji modelu wyciągamy następujące wnioski:\n",
        "\n",
        "**1. Dokładność i strata (accuracy i loss)**\n",
        "\n",
        "Na wykresach uczenia widzimy, że:\n",
        "- Dokładność treningowa rośnie szybko i osiąga ~95% po 3 epokach.\n",
        "- Dokładność walidacyjna utrzymuje się stabilnie na poziomie ~85-86%, bez wyraźnych spadków, co oznacza, że model nie jest przeuczony.\n",
        "-Strata walidacyjna wzrasta nieznacznie, co może sugerować początek przeuczenia, ale dzięki zastosowanemu early stopping zatrzymano trening we właściwym momencie.\n",
        "\n",
        "Stąd model dobrze uczy się danych treningowych i ogólnie radzi sobie bardzo dobrze z danymi testowymi, nie przeucza się zbyt szybko.\n",
        "\n",
        "**2. Raport klasyfikacji**\n",
        "\n",
        "Model osiągnął:\n",
        "\n",
        "- accuracy: 86% (dokładność ogólna),\n",
        "- f1-score:\n",
        "   - 0.87 dla „nie-sarkazmu”,\n",
        "   - 0.85 dla „sarkazmu”\n",
        "\n",
        "To pokazuje, że klasyfikator radzi sobie dobrze z oboma klasami, nawet jeśli sarkazm jest trudniejszy do wykrycia.\n",
        "\n",
        "- Precision (sarkazm): 0.81 - 81% przewidywań jako sarkazm było poprawnych.\n",
        "\n",
        "- Recall (sarkazm): 0.89 - model wykrył 89% wszystkich rzeczywistych przypadków sarkazmu.\n",
        "\n",
        "Oznacza to, że model skutecznie wychwytuje sarkastyczne wypowiedzi, a jego błędy wynikają głównie z nadwrażliwości -> czasem widzi sarkazm tam, gdzie go nie ma.\n",
        "\n",
        "**3. Confusion matrix**\n",
        "\n",
        "- 2498 poprawnie wykrytych „nie-sarkazmów”,\n",
        "- 2091 poprawnych sarkazmów,\n",
        "- 499 nie-sarkazmów błędnie sklasyfikowanych jako sarkazm (false positives),\n",
        "- 254 sarkazmów błędnie jako nie-sarkazmy (false negatives).\n",
        "\n",
        "Model częściej myli się w kierunku „fałszywego alarmu” (false positive), ale lepiej to niż ignorowanie rzeczywistego sarkazmu, czyli model jest bardziej ostrożny, co może być korzystne przy wykrywaniu ironii.\n",
        "\n",
        "**Podsumowując:**\n",
        "\n",
        "- Model działa stabilnie, z bardzo dobrym wynikiem F1-score i wysokim recall.\n",
        "- Przeuczenie zostało skutecznie ograniczone.\n",
        "- Klasyfikator dobrze rozróżnia sarkazm i nie-sarkazm, nawet jeśli klasy są nierówne."
      ],
      "metadata": {
        "id": "bz4oRTCKV3tK"
      }
    },
    {
      "cell_type": "markdown",
      "source": [
        "# Model 2: BiLSTM + Attention"
      ],
      "metadata": {
        "id": "1YLcmwhQW-9C"
      }
    },
    {
      "cell_type": "code",
      "source": [
        "# Warstwa Attention jako osobna klasa\n",
        "class Attention(tf.keras.layers.Layer):\n",
        "    def __init__(self):\n",
        "        super(Attention, self).__init__()\n",
        "        self.dense = tf.keras.layers.Dense(1)\n",
        "\n",
        "    def call(self, inputs):\n",
        "        # inputs: [batch_size (liczba przypadków naraz), time_steps (długość sekwencji np. 15 słów w zdaniu), hidden_size (liczba cech -> wymiar wektora, który reprezentuje każde słowo w sekwencji)]\n",
        "        scores = tf.nn.tanh(inputs)\n",
        "        scores = self.dense(scores)\n",
        "        weights = tf.nn.softmax(scores, axis=1)\n",
        "        weighted_output = inputs * weights\n",
        "        output = tf.reduce_sum(weighted_output, axis=1)\n",
        "        return output\n",
        "\n",
        "\"\"\"\n",
        "scores = tf.nn.tanh(inputs):\n",
        "- Każde słowo jest reprezentowane jako wektor liczb\n",
        "- Funkcja przypominająca tangens położony na boku (tangens hiperboliczny)\n",
        "- Nieliniowa funkcja aktywacji, która rzekształca każdą liczbę na zakres od -1 do 1, to pomaga ustabilizować sieć i zapobiega zbyt dużym wagom\n",
        "- W przeciwieństwie do sigmoid (która daje tylko wartości dodatnie), tanh zwraca też wartości ujemne, co ułatwia uczenie się bardziej zrównoważonych reprezentacji\n",
        "- Wprowadza nieliniowość -> gdyby wszystkie warstwy były liniowe (np. tylko mnożenia i dodawania), model nie byłby w stanie nauczyć się złożonych zależności. tanh wprowadza zgięcia i załamania w przestrzeni matematycznej\n",
        "\n",
        "tf.keras.layers.Dense(1):\n",
        "- Przekształca każdy wektor (czyli każde słowo) w jedną wartość -> tzw. attention score\n",
        "- Wynik = tensor o kształcie [batch_size, time_steps, 1]\n",
        "- Każde słowo w zdaniu dostaje „ocenę”, jak bardzo jest ważne\n",
        "\n",
        "weights = tf.nn.softmax(scores, axis=1):\n",
        "- Softmax przekształca te „oceny” w prawdopodobieństwa (czyli wagi) -> wszystkie sumują się do 1\n",
        "- Dla każdego przykładu w batchu osobno, policz softmax po wszystkich słowach w zdaniu, czyli wzdłuż osi time_steps (axis=1)\n",
        "- Czyli dla każdego zdania wybieramy, które słowa są ważniejsze (większa waga), które mniej (mniejsza)\n",
        "\n",
        "weighted_output = inputs * weights:\n",
        "- Mnożymy każde słowo (jego wektor) przez jego wagę z Attention\n",
        "- To oznacza, że ważniejsze słowa mają większy wpływ, a mniej ważne są „przyciszane”\n",
        "\n",
        "output = tf.reduce_sum(weighted_output, axis=1):\n",
        "- Sumujemy wzmocnione wektory po całej sekwencji\n",
        "- Otrzymujemy 1 wektor dla każdego zdania taki, który reprezentuje jego najważniejsze informacje (wg mechanizmu Attention)\n",
        "\n",
        "\"\"\"\n",
        "\n",
        "\n",
        "# Budujemy model BiLSTM + Attention\n",
        "\n",
        "def build_bilstm_attention_model():\n",
        "    model = tf.keras.Sequential([\n",
        "        # Embedding: zamienia indeksy słów na wektory liczbowe (rozmiar 128)\n",
        "        layers.Embedding(input_dim=VOCAB_SIZE, output_dim=128, input_length=SEQUENCE_LENGTH),\n",
        "\n",
        "        # Dwukierunkowa warstwa LSTM z dropout wewnętrznym\n",
        "        layers.Bidirectional(layers.LSTM(\n",
        "            64,\n",
        "            return_sequences=True,\n",
        "            dropout=0.3,              # Dropout na wejściu\n",
        "            recurrent_dropout=0.2     # Dropout w stanie ukrytym (bardzo ważne!)\n",
        "        )),\n",
        "\n",
        "        # BatchNormalization: stabilizuje i przyspiesza uczenie\n",
        "        layers.BatchNormalization(),\n",
        "\n",
        "        # Attention\n",
        "        Attention(),\n",
        "\n",
        "        # BatchNormalization po Attention\n",
        "        layers.BatchNormalization(),\n",
        "\n",
        "        # Dropout - zapobiega przeuczeniu\n",
        "        layers.Dropout(0.4),\n",
        "\n",
        "        # Gęsta warstwa z L2 regularizacją\n",
        "        layers.Dense(\n",
        "            32,\n",
        "            activation='relu',\n",
        "            kernel_regularizer=regularizers.l2(0.01)\n",
        "        ),\n",
        "\n",
        "        layers.Dropout(0.3),\n",
        "\n",
        "        # Wyjście - prawdopodobieństwo sarkazmu\n",
        "        layers.Dense(1, activation='sigmoid')\n",
        "    ])\n",
        "\n",
        "    # Kompilacja\n",
        "    model.compile(\n",
        "        loss='binary_crossentropy',\n",
        "        optimizer=tf.keras.optimizers.RMSprop(learning_rate=1e-3),\n",
        "        metrics=['accuracy']\n",
        "    )\n",
        "\n",
        "    return model\n",
        "\n",
        "\"\"\"\n",
        "layers.BatchNormalization():\n",
        "- Normalizuje dane przepływające przez sieć w każdej mini-partii (batchu)\n",
        "- Celem jest sprawić, żeby dane miały średnią ~= 0 (wartości ujemne i dodatnie się rœónoważą -> są \"rozłożone symetrycznie\" wokół 0) i odchylenie standardowe ~= 1 (miara, jak daleko liczby są od średniej, miara rozrzutu danych -> std=1 znaczy, że większość danych znajduje się blisko średniej)\n",
        "- Działa to osobno w każdej epoce i dla każdego batchu\n",
        "\n",
        "regularizers.l2(0.01):\n",
        "- \"karze\" za zbyt duże wagi neuronów przez pomnożenie sumy wag w loss modelu przez odpowiednią wartość lambda\n",
        "- Jeśli wagi w sieci stają się bardzo duże, sieć przeucza się, czyli \"zapamiętuje\" dane zamiast uczyć się uogólnienia\n",
        "- Dzięki zastosowaniu lambda sieć utrzymuje odpowiednio małe wagi\n",
        "\n",
        "optimizers.RMSprop(learning_rate=1e-3):\n",
        "- Root Mean Square Propagation\n",
        "- Algorytm mówiący sieci jak zmieniać wagi podczas uczenia\n",
        "- Dynamicznie dopasowuje tempo uczenia dla każdej wagi tak, jak Adam, ale Adam łączy mechanizm RMSprop z dodatkowym \"momentum\", czyli pamiętaniem kierunku uczenia się\n",
        "- W modelu zamieniono Adam na RMSprop, ponieważ RMSprop lepiej stabilizuje gradienty w modelach sekwencyjnych takich jak BiLSTM + Attention, które są wrażliwe na skoki gradientów w długich sekwencjach\n",
        "\n",
        "\"\"\"\n",
        "\n",
        "# Tworzenie i trenowanie modelu\n",
        "bilstm_attention_model = build_bilstm_attention_model()\n",
        "bilstm_attention_model.summary()\n",
        "\n",
        "# Trening modelu\n",
        "history_bilstm = bilstm_attention_model.fit(\n",
        "    X_train_vec, y_train,\n",
        "    validation_data=(X_test_vec, y_test),\n",
        "    epochs=5,\n",
        "    class_weight=class_weights,\n",
        "    callbacks=[early_stop]\n",
        ")"
      ],
      "metadata": {
        "colab": {
          "base_uri": "https://localhost:8080/",
          "height": 695
        },
        "id": "A8Q5pvjaa0jq",
        "outputId": "d6f3c5c5-5ba1-489a-dc7e-abc257d16959"
      },
      "execution_count": 19,
      "outputs": [
        {
          "output_type": "stream",
          "name": "stderr",
          "text": [
            "/usr/local/lib/python3.11/dist-packages/keras/src/layers/core/embedding.py:90: UserWarning: Argument `input_length` is deprecated. Just remove it.\n",
            "  warnings.warn(\n"
          ]
        },
        {
          "output_type": "display_data",
          "data": {
            "text/plain": [
              "\u001b[1mModel: \"sequential_3\"\u001b[0m\n"
            ],
            "text/html": [
              "<pre style=\"white-space:pre;overflow-x:auto;line-height:normal;font-family:Menlo,'DejaVu Sans Mono',consolas,'Courier New',monospace\"><span style=\"font-weight: bold\">Model: \"sequential_3\"</span>\n",
              "</pre>\n"
            ]
          },
          "metadata": {}
        },
        {
          "output_type": "display_data",
          "data": {
            "text/plain": [
              "┏━━━━━━━━━━━━━━━━━━━━━━━━━━━━━━━━━┳━━━━━━━━━━━━━━━━━━━━━━━━┳━━━━━━━━━━━━━━━┓\n",
              "┃\u001b[1m \u001b[0m\u001b[1mLayer (type)                   \u001b[0m\u001b[1m \u001b[0m┃\u001b[1m \u001b[0m\u001b[1mOutput Shape          \u001b[0m\u001b[1m \u001b[0m┃\u001b[1m \u001b[0m\u001b[1m      Param #\u001b[0m\u001b[1m \u001b[0m┃\n",
              "┡━━━━━━━━━━━━━━━━━━━━━━━━━━━━━━━━━╇━━━━━━━━━━━━━━━━━━━━━━━━╇━━━━━━━━━━━━━━━┩\n",
              "│ embedding_3 (\u001b[38;5;33mEmbedding\u001b[0m)         │ ?                      │   \u001b[38;5;34m0\u001b[0m (unbuilt) │\n",
              "├─────────────────────────────────┼────────────────────────┼───────────────┤\n",
              "│ bidirectional_4 (\u001b[38;5;33mBidirectional\u001b[0m) │ ?                      │   \u001b[38;5;34m0\u001b[0m (unbuilt) │\n",
              "├─────────────────────────────────┼────────────────────────┼───────────────┤\n",
              "│ batch_normalization             │ ?                      │   \u001b[38;5;34m0\u001b[0m (unbuilt) │\n",
              "│ (\u001b[38;5;33mBatchNormalization\u001b[0m)            │                        │               │\n",
              "├─────────────────────────────────┼────────────────────────┼───────────────┤\n",
              "│ attention_2 (\u001b[38;5;33mAttention\u001b[0m)         │ ?                      │   \u001b[38;5;34m0\u001b[0m (unbuilt) │\n",
              "├─────────────────────────────────┼────────────────────────┼───────────────┤\n",
              "│ batch_normalization_1           │ ?                      │   \u001b[38;5;34m0\u001b[0m (unbuilt) │\n",
              "│ (\u001b[38;5;33mBatchNormalization\u001b[0m)            │                        │               │\n",
              "├─────────────────────────────────┼────────────────────────┼───────────────┤\n",
              "│ dropout_6 (\u001b[38;5;33mDropout\u001b[0m)             │ ?                      │             \u001b[38;5;34m0\u001b[0m │\n",
              "├─────────────────────────────────┼────────────────────────┼───────────────┤\n",
              "│ dense_9 (\u001b[38;5;33mDense\u001b[0m)                 │ ?                      │   \u001b[38;5;34m0\u001b[0m (unbuilt) │\n",
              "├─────────────────────────────────┼────────────────────────┼───────────────┤\n",
              "│ dropout_7 (\u001b[38;5;33mDropout\u001b[0m)             │ ?                      │             \u001b[38;5;34m0\u001b[0m │\n",
              "├─────────────────────────────────┼────────────────────────┼───────────────┤\n",
              "│ dense_10 (\u001b[38;5;33mDense\u001b[0m)                │ ?                      │   \u001b[38;5;34m0\u001b[0m (unbuilt) │\n",
              "└─────────────────────────────────┴────────────────────────┴───────────────┘\n"
            ],
            "text/html": [
              "<pre style=\"white-space:pre;overflow-x:auto;line-height:normal;font-family:Menlo,'DejaVu Sans Mono',consolas,'Courier New',monospace\">┏━━━━━━━━━━━━━━━━━━━━━━━━━━━━━━━━━┳━━━━━━━━━━━━━━━━━━━━━━━━┳━━━━━━━━━━━━━━━┓\n",
              "┃<span style=\"font-weight: bold\"> Layer (type)                    </span>┃<span style=\"font-weight: bold\"> Output Shape           </span>┃<span style=\"font-weight: bold\">       Param # </span>┃\n",
              "┡━━━━━━━━━━━━━━━━━━━━━━━━━━━━━━━━━╇━━━━━━━━━━━━━━━━━━━━━━━━╇━━━━━━━━━━━━━━━┩\n",
              "│ embedding_3 (<span style=\"color: #0087ff; text-decoration-color: #0087ff\">Embedding</span>)         │ ?                      │   <span style=\"color: #00af00; text-decoration-color: #00af00\">0</span> (unbuilt) │\n",
              "├─────────────────────────────────┼────────────────────────┼───────────────┤\n",
              "│ bidirectional_4 (<span style=\"color: #0087ff; text-decoration-color: #0087ff\">Bidirectional</span>) │ ?                      │   <span style=\"color: #00af00; text-decoration-color: #00af00\">0</span> (unbuilt) │\n",
              "├─────────────────────────────────┼────────────────────────┼───────────────┤\n",
              "│ batch_normalization             │ ?                      │   <span style=\"color: #00af00; text-decoration-color: #00af00\">0</span> (unbuilt) │\n",
              "│ (<span style=\"color: #0087ff; text-decoration-color: #0087ff\">BatchNormalization</span>)            │                        │               │\n",
              "├─────────────────────────────────┼────────────────────────┼───────────────┤\n",
              "│ attention_2 (<span style=\"color: #0087ff; text-decoration-color: #0087ff\">Attention</span>)         │ ?                      │   <span style=\"color: #00af00; text-decoration-color: #00af00\">0</span> (unbuilt) │\n",
              "├─────────────────────────────────┼────────────────────────┼───────────────┤\n",
              "│ batch_normalization_1           │ ?                      │   <span style=\"color: #00af00; text-decoration-color: #00af00\">0</span> (unbuilt) │\n",
              "│ (<span style=\"color: #0087ff; text-decoration-color: #0087ff\">BatchNormalization</span>)            │                        │               │\n",
              "├─────────────────────────────────┼────────────────────────┼───────────────┤\n",
              "│ dropout_6 (<span style=\"color: #0087ff; text-decoration-color: #0087ff\">Dropout</span>)             │ ?                      │             <span style=\"color: #00af00; text-decoration-color: #00af00\">0</span> │\n",
              "├─────────────────────────────────┼────────────────────────┼───────────────┤\n",
              "│ dense_9 (<span style=\"color: #0087ff; text-decoration-color: #0087ff\">Dense</span>)                 │ ?                      │   <span style=\"color: #00af00; text-decoration-color: #00af00\">0</span> (unbuilt) │\n",
              "├─────────────────────────────────┼────────────────────────┼───────────────┤\n",
              "│ dropout_7 (<span style=\"color: #0087ff; text-decoration-color: #0087ff\">Dropout</span>)             │ ?                      │             <span style=\"color: #00af00; text-decoration-color: #00af00\">0</span> │\n",
              "├─────────────────────────────────┼────────────────────────┼───────────────┤\n",
              "│ dense_10 (<span style=\"color: #0087ff; text-decoration-color: #0087ff\">Dense</span>)                │ ?                      │   <span style=\"color: #00af00; text-decoration-color: #00af00\">0</span> (unbuilt) │\n",
              "└─────────────────────────────────┴────────────────────────┴───────────────┘\n",
              "</pre>\n"
            ]
          },
          "metadata": {}
        },
        {
          "output_type": "display_data",
          "data": {
            "text/plain": [
              "\u001b[1m Total params: \u001b[0m\u001b[38;5;34m0\u001b[0m (0.00 B)\n"
            ],
            "text/html": [
              "<pre style=\"white-space:pre;overflow-x:auto;line-height:normal;font-family:Menlo,'DejaVu Sans Mono',consolas,'Courier New',monospace\"><span style=\"font-weight: bold\"> Total params: </span><span style=\"color: #00af00; text-decoration-color: #00af00\">0</span> (0.00 B)\n",
              "</pre>\n"
            ]
          },
          "metadata": {}
        },
        {
          "output_type": "display_data",
          "data": {
            "text/plain": [
              "\u001b[1m Trainable params: \u001b[0m\u001b[38;5;34m0\u001b[0m (0.00 B)\n"
            ],
            "text/html": [
              "<pre style=\"white-space:pre;overflow-x:auto;line-height:normal;font-family:Menlo,'DejaVu Sans Mono',consolas,'Courier New',monospace\"><span style=\"font-weight: bold\"> Trainable params: </span><span style=\"color: #00af00; text-decoration-color: #00af00\">0</span> (0.00 B)\n",
              "</pre>\n"
            ]
          },
          "metadata": {}
        },
        {
          "output_type": "display_data",
          "data": {
            "text/plain": [
              "\u001b[1m Non-trainable params: \u001b[0m\u001b[38;5;34m0\u001b[0m (0.00 B)\n"
            ],
            "text/html": [
              "<pre style=\"white-space:pre;overflow-x:auto;line-height:normal;font-family:Menlo,'DejaVu Sans Mono',consolas,'Courier New',monospace\"><span style=\"font-weight: bold\"> Non-trainable params: </span><span style=\"color: #00af00; text-decoration-color: #00af00\">0</span> (0.00 B)\n",
              "</pre>\n"
            ]
          },
          "metadata": {}
        },
        {
          "output_type": "stream",
          "name": "stdout",
          "text": [
            "Epoch 1/5\n",
            "\u001b[1m668/668\u001b[0m \u001b[32m━━━━━━━━━━━━━━━━━━━━\u001b[0m\u001b[37m\u001b[0m \u001b[1m49s\u001b[0m 58ms/step - accuracy: 0.7139 - loss: 0.8737 - val_accuracy: 0.8401 - val_loss: 0.4123\n",
            "Epoch 2/5\n",
            "\u001b[1m668/668\u001b[0m \u001b[32m━━━━━━━━━━━━━━━━━━━━\u001b[0m\u001b[37m\u001b[0m \u001b[1m37s\u001b[0m 55ms/step - accuracy: 0.8682 - loss: 0.3583 - val_accuracy: 0.8585 - val_loss: 0.3449\n",
            "Epoch 3/5\n",
            "\u001b[1m668/668\u001b[0m \u001b[32m━━━━━━━━━━━━━━━━━━━━\u001b[0m\u001b[37m\u001b[0m \u001b[1m42s\u001b[0m 56ms/step - accuracy: 0.8981 - loss: 0.2754 - val_accuracy: 0.8598 - val_loss: 0.3407\n",
            "Epoch 4/5\n",
            "\u001b[1m668/668\u001b[0m \u001b[32m━━━━━━━━━━━━━━━━━━━━\u001b[0m\u001b[37m\u001b[0m \u001b[1m39s\u001b[0m 53ms/step - accuracy: 0.9127 - loss: 0.2432 - val_accuracy: 0.8527 - val_loss: 0.3522\n",
            "Epoch 5/5\n",
            "\u001b[1m668/668\u001b[0m \u001b[32m━━━━━━━━━━━━━━━━━━━━\u001b[0m\u001b[37m\u001b[0m \u001b[1m43s\u001b[0m 57ms/step - accuracy: 0.9328 - loss: 0.2012 - val_accuracy: 0.8562 - val_loss: 0.3563\n"
          ]
        }
      ]
    },
    {
      "cell_type": "markdown",
      "source": [
        "# Ocena modelu BiLSTM + Attention"
      ],
      "metadata": {
        "id": "81I6dimzqMLv"
      }
    },
    {
      "cell_type": "code",
      "source": [
        "# Uzyskanie prognoz (prawdopodobieństw)\n",
        "y_pred_prob = bilstm_attention_model.predict(X_test_vec)\n",
        "\n",
        "# Zamiana prawdopodobieństw na klasy: 0 lub 1\n",
        "y_pred = (y_pred_prob > 0.5).astype(\"int32\").flatten()\n",
        "\n",
        "# Raport klasyfikacji\n",
        "print(\"=== Raport klasyfikacji ===\")\n",
        "print(classification_report(y_test, y_pred, target_names=[\"Nie-sarkazm\", \"Sarkazm\"]))\n",
        "\n",
        "# Macierz pomyłek\n",
        "cm = confusion_matrix(y_test, y_pred)\n",
        "\n",
        "# Wizualizacja macierzy pomyłek\n",
        "plt.figure(figsize=(6, 4))\n",
        "sns.heatmap(cm, annot=True, fmt=\"d\", cmap=\"Blues\",\n",
        "            xticklabels=[\"Nie-sarkazm\", \"Sarkazm\"],\n",
        "            yticklabels=[\"Nie-sarkazm\", \"Sarkazm\"])\n",
        "plt.xlabel(\"Przewidywana klasa\")\n",
        "plt.ylabel(\"Rzeczywista klasa\")\n",
        "plt.title(\"Macierz pomyłek - BiLSTM + Attention\")\n",
        "plt.show()"
      ],
      "metadata": {
        "colab": {
          "base_uri": "https://localhost:8080/",
          "height": 601
        },
        "id": "WrkTJHvahe34",
        "outputId": "f267bd08-c5ea-4575-f6b4-6e45aa1257c6"
      },
      "execution_count": 20,
      "outputs": [
        {
          "output_type": "stream",
          "name": "stdout",
          "text": [
            "\u001b[1m167/167\u001b[0m \u001b[32m━━━━━━━━━━━━━━━━━━━━\u001b[0m\u001b[37m\u001b[0m \u001b[1m4s\u001b[0m 19ms/step\n",
            "=== Raport klasyfikacji ===\n",
            "              precision    recall  f1-score   support\n",
            "\n",
            " Nie-sarkazm       0.90      0.84      0.87      2997\n",
            "     Sarkazm       0.81      0.88      0.85      2345\n",
            "\n",
            "    accuracy                           0.86      5342\n",
            "   macro avg       0.86      0.86      0.86      5342\n",
            "weighted avg       0.86      0.86      0.86      5342\n",
            "\n"
          ]
        },
        {
          "output_type": "display_data",
          "data": {
            "text/plain": [
              "<Figure size 600x400 with 2 Axes>"
            ],
            "image/png": "[encoded data removed]"
          },
          "metadata": {}
        }
      ]
    },
    {
      "cell_type": "code",
      "source": [
        "# Wykres dokładności\n",
        "plt.figure(figsize=(12, 5))\n",
        "plt.subplot(1, 2, 1)\n",
        "plt.plot(history_bilstm.history['accuracy'], label='Trening')\n",
        "plt.plot(history_bilstm.history['val_accuracy'], label='Walidacja')\n",
        "plt.title('Dokładność (accuracy)')\n",
        "plt.xlabel('Epoka')\n",
        "plt.ylabel('Wartość')\n",
        "plt.legend()\n",
        "\n",
        "# Wykres straty\n",
        "plt.subplot(1, 2, 2)\n",
        "plt.plot(history_bilstm.history['loss'], label='Trening')\n",
        "plt.plot(history_bilstm.history['val_loss'], label='Walidacja')\n",
        "plt.title('Strata (loss)')\n",
        "plt.xlabel('Epoka')\n",
        "plt.ylabel('Wartość')\n",
        "plt.legend()\n",
        "\n",
        "plt.tight_layout()\n",
        "plt.show()"
      ],
      "metadata": {
        "colab": {
          "base_uri": "https://localhost:8080/",
          "height": 301
        },
        "id": "ko0MHyxdyBjx",
        "outputId": "c12da2ce-9360-4001-fb2c-73a6d2286ee5"
      },
      "execution_count": 21,
      "outputs": [
        {
          "output_type": "display_data",
          "data": {
            "text/plain": [
              "<Figure size 1200x500 with 2 Axes>"
            ],
            "image/png": "[encoded data removed]"
          },
          "metadata": {}
        }
      ]
    },
    {
      "cell_type": "markdown",
      "source": [
        "Po przeprowadzonej ewaluacji modelu BiLSTM + Attention wyciągamy następujące wnioski:\n",
        "\n",
        "**1. Dokładność i strata (accuracy i loss)**\n",
        "\n",
        "Na wykresach uczenia widzimy, że:\n",
        "\n",
        "- Dokładność treningowa systematycznie rośnie, osiągając ok. 93% po 5 epokach.\n",
        "- Dokładność walidacyjna pozostaje stabilna w zakresie 85-86%, co oznacza, że model dobrze generalizuje i nie jest silnie przeuczony.\n",
        "- Strata walidacyjna utrzymuje się na stabilnym poziomie po początkowym spadku, co pokazuje, że model uczy się w sposób zrównoważony. Dzięki zastosowaniu RMSprop, BatchNormalization i EarlyStopping proces uczenia jest dobrze kontrolowany i nie widać oznak silnego przeuczenia.\n",
        "\n",
        "Model skutecznie uczy się danych i przenosi wiedzę na dane testowe w sposób stabilny.\n",
        "\n",
        "**2. Raport klasyfikacji**\n",
        "\n",
        "Model osiągnął:\n",
        "\n",
        "- accuracy: 86% — bardzo dobra ogólna dokładność,\n",
        "- f1-score:\n",
        "  - 0.87 dla klasy „nie-sarkazm”,\n",
        "  - 0.85 dla klasy „sarkazm”.\n",
        "\n",
        "Jest to bardzo dobry wynik — świadczy o tym, że model dobrze radzi sobie z klasyfikacją obu klas, a nie tylko większościowej.\n",
        "\n",
        "- Precision (sarkazm): 0.81 - 81% przewidywań jako sarkazm było poprawnych.\n",
        "- Recall (sarkazm): 0.88 - model wykrył aż 88% rzeczywistych przypadków sarkazmu.\n",
        "\n",
        "Oznacza to, że model skutecznie wychwytuje sarkastyczne wypowiedzi, a jego błędy są zrównoważone, unika zarówno pomijania sarkazmu, jak i nadmiernego przypisywania go tam, gdzie go nie ma.\n",
        "\n",
        "**3. Confusion matrix**\n",
        "\n",
        "- 2526 poprawnie wykrytych „nie-sarkazmów”,\n",
        "- 2067 poprawnie wykrytych sarkazmów,\n",
        "- 471 nie-sarkazmów błędnie sklasyfikowanych jako sarkazm (false positives),\n",
        "- 278 sarkazmów błędnie jako nie-sarkazmy (false negatives).\n",
        "\n",
        "Model lekko preferuje unikanie false negatives (czyli lepiej \"nie przegapić\" sarkazmu) kosztem nieco większej liczby false positives.\n",
        "Jest to sensowna strategia przy wykrywaniu sarkazmu, ponieważ wykrycie sarkazmu bywa ważniejsze niż przypadkowe jego przypisanie (lepiej być ostrożnym).\n",
        "\n",
        "Podsumowując:\n",
        "\n",
        "- Model BiLSTM + Attention działa bardzo stabilnie, osiągając bardzo dobry wynik F1-score i wysoki recall dla sarkazmu.\n",
        "- Użycie Attention pozwoliło mu dobrze skupić się na istotnych fragmentach tekstu.\n",
        "- Wprowadzenie BatchNormalization, Dropout, RMSprop i EarlyStopping poprawiło stabilność i ograniczyło przeuczenie.\n",
        "- Model radzi sobie świetnie z obydwiema klasami, bez widocznego uprzywilejowania jednej z nich.\n",
        "\n",
        "W porównaniu do BiGRU, BiLSTM + Attention pokazuje bardziej stabilne uczenie, lepszy recall dla sarkazmu i bardzo dobry balans precyzji i czułości.\n",
        "Jest to mocny, dobrze dopasowany model do zadania detekcji sarkazmu."
      ],
      "metadata": {
        "id": "CCdg7z5orl9r"
      }
    },
    {
      "cell_type": "markdown",
      "source": [
        "# Podsumowanie\n",
        "\n",
        "- Oba modele (BiGRU oraz BiLSTM + Attention) osiągnęły bardzo dobre wyniki -> accuracy 86%, wysokie F1-score oraz stabilne procesy uczenia.\n",
        "\n",
        "- Model BiLSTM + Attention dzięki mechanizmowi Attention lepiej identyfikuje kontekst w tekście i jest mniej podatny na false negatives, co jest szczególnie korzystne w zadaniu detekcji sarkazmu.\n",
        "\n",
        "- Zastosowanie BatchNormalization, Dropout, RMSprop i EarlyStopping pozwoliło osiągnąć stabilne uczenie i ograniczyć przeuczenie.\n",
        "\n",
        "**Wnioski końcowe:**\n",
        "\n",
        "Model BiLSTM + Attention okazał się nieco lepszym i bardziej stabilnym rozwiązaniem w porównaniu do BiGRU, szczególnie pod względem recall i lepszego zbalansowania błędów. Mechanizm Attention pomaga skutecznie skupić się na najistotniejszych fragmentach tekstu, co w przypadku detekcji sarkazmu daje wymierne korzyści."
      ],
      "metadata": {
        "id": "bmdNE0VhtJc_"
      }
    }
  ]
}